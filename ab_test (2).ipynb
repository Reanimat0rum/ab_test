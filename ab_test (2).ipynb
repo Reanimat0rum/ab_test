{
 "cells": [
  {
   "cell_type": "markdown",
   "id": "7ef2955a",
   "metadata": {
    "toc": true
   },
   "source": [
    "<h1>Table of Contents<span class=\"tocSkip\"></span></h1>\n",
    "<div class=\"toc\"><ul class=\"toc-item\"><li><span><a href=\"#Сборный-проект---2\" data-toc-modified-id=\"Сборный-проект---2-1\">Сборный проект - 2</a></span><ul class=\"toc-item\"><li><span><a href=\"#Загружаем-и-подготавливаем-данные\" data-toc-modified-id=\"Загружаем-и-подготавливаем-данные-1.1\">Загружаем и подготавливаем данные</a></span><ul class=\"toc-item\"><li><span><a href=\"#Комментарий-от-ревьюера-v_1\" data-toc-modified-id=\"Комментарий-от-ревьюера-v_1-1.1.1\">Комментарий от ревьюера v_1</a></span></li><li><span><a href=\"#Комментарий-от-ревьюера-v_1\" data-toc-modified-id=\"Комментарий-от-ревьюера-v_1-1.1.2\">Комментарий от ревьюера v_1</a></span></li></ul></li><li><span><a href=\"#Изучим-и-проверим-данные-в-логах\" data-toc-modified-id=\"Изучим-и-проверим-данные-в-логах-1.2\">Изучим и проверим данные в логах</a></span><ul class=\"toc-item\"><li><span><a href=\"#Комментарий-от-ревьюера-v_1\" data-toc-modified-id=\"Комментарий-от-ревьюера-v_1-1.2.1\">Комментарий от ревьюера v_1</a></span></li><li><span><a href=\"#Комментарий-от-ревьюера-v_1\" data-toc-modified-id=\"Комментарий-от-ревьюера-v_1-1.2.2\">Комментарий от ревьюера v_1</a></span></li><li><span><a href=\"#Комментарий-от-ревьюера-v_1\" data-toc-modified-id=\"Комментарий-от-ревьюера-v_1-1.2.3\">Комментарий от ревьюера v_1</a></span></li></ul></li><li><span><a href=\"#Изучим-воронку-событий\" data-toc-modified-id=\"Изучим-воронку-событий-1.3\">Изучим воронку событий</a></span><ul class=\"toc-item\"><li><span><a href=\"#Комментарий-от-ревьюера-v_1\" data-toc-modified-id=\"Комментарий-от-ревьюера-v_1-1.3.1\">Комментарий от ревьюера v_1</a></span></li><li><span><a href=\"#Комментарий-от-ревьюера-v_1\" data-toc-modified-id=\"Комментарий-от-ревьюера-v_1-1.3.2\">Комментарий от ревьюера v_1</a></span></li><li><span><a href=\"#Комментарий-от-ревьюера-v_1\" data-toc-modified-id=\"Комментарий-от-ревьюера-v_1-1.3.3\">Комментарий от ревьюера v_1</a></span></li></ul></li><li><span><a href=\"#Изучаем-результат-эксперимента\" data-toc-modified-id=\"Изучаем-результат-эксперимента-1.4\">Изучаем результат эксперимента</a></span><ul class=\"toc-item\"><li><span><a href=\"#Комментарий-студента:-Изменил-расчет-статистической-значимости,-правда-результат-не-изменился))\" data-toc-modified-id=\"Комментарий-студента:-Изменил-расчет-статистической-значимости,-правда-результат-не-изменился))-1.4.1\">Комментарий студента: Изменил расчет статистической значимости, правда результат не изменился))</a></span></li><li><span><a href=\"#Комментарий-от-ревьюера-v_1\" data-toc-modified-id=\"Комментарий-от-ревьюера-v_1-1.4.2\">Комментарий от ревьюера v_1</a></span></li><li><span><a href=\"#Комментарий-от-ревьюера-v_1\" data-toc-modified-id=\"Комментарий-от-ревьюера-v_1-1.4.3\">Комментарий от ревьюера v_1</a></span></li><li><span><a href=\"#Комментарий-от-ревьюера-v_1\" data-toc-modified-id=\"Комментарий-от-ревьюера-v_1-1.4.4\">Комментарий от ревьюера v_1</a></span></li></ul></li><li><span><a href=\"#Выводы\" data-toc-modified-id=\"Выводы-1.5\">Выводы</a></span><ul class=\"toc-item\"><li><span><a href=\"#Комментарий-от-ревьюера-v_1\" data-toc-modified-id=\"Комментарий-от-ревьюера-v_1-1.5.1\">Комментарий от ревьюера v_1</a></span></li></ul></li></ul></li></ul></div>"
   ]
  },
  {
   "cell_type": "markdown",
   "id": "e140edf1",
   "metadata": {},
   "source": [
    "# Сборный проект - 2"
   ]
  },
  {
   "cell_type": "markdown",
   "id": "dfd0f88d",
   "metadata": {},
   "source": [
    "Цель данного проекта изучить поведение пользователей мобильного приложения по продаже продуктов питания.\n",
    "Мы изучим воронку продаж, исследуем как пользователи доходят до покупки, сколько пользователей доходит до покупки, а сколько — «застревает» на предыдущих шагахи на каких именно.\n",
    "После этого мы исследуем результаты A/A/B-эксперимента для фичи \"Изменение шрифта во всём приложении\". Пользователи разбиты на 3 группы: 2 контрольные со старыми шрифтами и одну экспериментальную — с новыми."
   ]
  },
  {
   "cell_type": "markdown",
   "id": "b7537cff",
   "metadata": {},
   "source": [
    "Информация о датасете /datasets/logs_exp.csv: \n",
    "* Каждая запись в логе — это действие пользователя, или событие. \n",
    "* EventName — название события;\n",
    "* DeviceIDHash — уникальный идентификатор пользователя;\n",
    "* EventTimestamp — время события;\n",
    "* ExpId — номер эксперимента: 246 и 247 — контрольные группы, а 248 — экспериментальная."
   ]
  },
  {
   "cell_type": "markdown",
   "id": "d95781e8",
   "metadata": {},
   "source": [
    "Загружаем необходимые библиотеки"
   ]
  },
  {
   "cell_type": "code",
   "execution_count": 1,
   "id": "1f075dda",
   "metadata": {},
   "outputs": [],
   "source": [
    "import pandas as pd\n",
    "import seaborn as sns\n",
    "import numpy as np\n",
    "import matplotlib.pyplot as plt\n",
    "import scipy.stats as st\n",
    "import math as mth"
   ]
  },
  {
   "cell_type": "markdown",
   "id": "6062ce76",
   "metadata": {},
   "source": [
    "## Загружаем и подготавливаем данные"
   ]
  },
  {
   "cell_type": "code",
   "execution_count": 2,
   "id": "9042ba1b",
   "metadata": {},
   "outputs": [],
   "source": [
    "logs = pd.read_csv('/datasets/logs_exp.csv', sep='\\t')"
   ]
  },
  {
   "cell_type": "code",
   "execution_count": 3,
   "id": "d2e75711",
   "metadata": {},
   "outputs": [
    {
     "data": {
      "text/html": [
       "<div>\n",
       "<style scoped>\n",
       "    .dataframe tbody tr th:only-of-type {\n",
       "        vertical-align: middle;\n",
       "    }\n",
       "\n",
       "    .dataframe tbody tr th {\n",
       "        vertical-align: top;\n",
       "    }\n",
       "\n",
       "    .dataframe thead th {\n",
       "        text-align: right;\n",
       "    }\n",
       "</style>\n",
       "<table border=\"1\" class=\"dataframe\">\n",
       "  <thead>\n",
       "    <tr style=\"text-align: right;\">\n",
       "      <th></th>\n",
       "      <th>EventName</th>\n",
       "      <th>DeviceIDHash</th>\n",
       "      <th>EventTimestamp</th>\n",
       "      <th>ExpId</th>\n",
       "    </tr>\n",
       "  </thead>\n",
       "  <tbody>\n",
       "    <tr>\n",
       "      <th>0</th>\n",
       "      <td>MainScreenAppear</td>\n",
       "      <td>4575588528974610257</td>\n",
       "      <td>1564029816</td>\n",
       "      <td>246</td>\n",
       "    </tr>\n",
       "    <tr>\n",
       "      <th>1</th>\n",
       "      <td>MainScreenAppear</td>\n",
       "      <td>7416695313311560658</td>\n",
       "      <td>1564053102</td>\n",
       "      <td>246</td>\n",
       "    </tr>\n",
       "    <tr>\n",
       "      <th>2</th>\n",
       "      <td>PaymentScreenSuccessful</td>\n",
       "      <td>3518123091307005509</td>\n",
       "      <td>1564054127</td>\n",
       "      <td>248</td>\n",
       "    </tr>\n",
       "    <tr>\n",
       "      <th>3</th>\n",
       "      <td>CartScreenAppear</td>\n",
       "      <td>3518123091307005509</td>\n",
       "      <td>1564054127</td>\n",
       "      <td>248</td>\n",
       "    </tr>\n",
       "    <tr>\n",
       "      <th>4</th>\n",
       "      <td>PaymentScreenSuccessful</td>\n",
       "      <td>6217807653094995999</td>\n",
       "      <td>1564055322</td>\n",
       "      <td>248</td>\n",
       "    </tr>\n",
       "  </tbody>\n",
       "</table>\n",
       "</div>"
      ],
      "text/plain": [
       "                 EventName         DeviceIDHash  EventTimestamp  ExpId\n",
       "0         MainScreenAppear  4575588528974610257      1564029816    246\n",
       "1         MainScreenAppear  7416695313311560658      1564053102    246\n",
       "2  PaymentScreenSuccessful  3518123091307005509      1564054127    248\n",
       "3         CartScreenAppear  3518123091307005509      1564054127    248\n",
       "4  PaymentScreenSuccessful  6217807653094995999      1564055322    248"
      ]
     },
     "execution_count": 3,
     "metadata": {},
     "output_type": "execute_result"
    }
   ],
   "source": [
    "logs.head()"
   ]
  },
  {
   "cell_type": "markdown",
   "id": "be3152b1",
   "metadata": {},
   "source": [
    "Проверим датасет на наличие пропусков и я дубликатов"
   ]
  },
  {
   "cell_type": "code",
   "execution_count": 4,
   "id": "0def9129",
   "metadata": {},
   "outputs": [
    {
     "data": {
      "text/plain": [
       "EventName         0\n",
       "DeviceIDHash      0\n",
       "EventTimestamp    0\n",
       "ExpId             0\n",
       "dtype: int64"
      ]
     },
     "execution_count": 4,
     "metadata": {},
     "output_type": "execute_result"
    }
   ],
   "source": [
    "logs.isna().sum()"
   ]
  },
  {
   "cell_type": "code",
   "execution_count": 5,
   "id": "f7e5f82f",
   "metadata": {},
   "outputs": [
    {
     "data": {
      "text/plain": [
       "413"
      ]
     },
     "execution_count": 5,
     "metadata": {},
     "output_type": "execute_result"
    }
   ],
   "source": [
    "logs.duplicated().sum()"
   ]
  },
  {
   "cell_type": "code",
   "execution_count": 6,
   "id": "bff476f1",
   "metadata": {},
   "outputs": [
    {
     "data": {
      "text/html": [
       "<div>\n",
       "<style scoped>\n",
       "    .dataframe tbody tr th:only-of-type {\n",
       "        vertical-align: middle;\n",
       "    }\n",
       "\n",
       "    .dataframe tbody tr th {\n",
       "        vertical-align: top;\n",
       "    }\n",
       "\n",
       "    .dataframe thead th {\n",
       "        text-align: right;\n",
       "    }\n",
       "</style>\n",
       "<table border=\"1\" class=\"dataframe\">\n",
       "  <thead>\n",
       "    <tr style=\"text-align: right;\">\n",
       "      <th></th>\n",
       "      <th>EventName</th>\n",
       "      <th>DeviceIDHash</th>\n",
       "      <th>EventTimestamp</th>\n",
       "      <th>ExpId</th>\n",
       "    </tr>\n",
       "  </thead>\n",
       "  <tbody>\n",
       "    <tr>\n",
       "      <th>452</th>\n",
       "      <td>MainScreenAppear</td>\n",
       "      <td>5613408041324010552</td>\n",
       "      <td>1564474784</td>\n",
       "      <td>248</td>\n",
       "    </tr>\n",
       "    <tr>\n",
       "      <th>453</th>\n",
       "      <td>MainScreenAppear</td>\n",
       "      <td>5613408041324010552</td>\n",
       "      <td>1564474784</td>\n",
       "      <td>248</td>\n",
       "    </tr>\n",
       "    <tr>\n",
       "      <th>2348</th>\n",
       "      <td>CartScreenAppear</td>\n",
       "      <td>1694940645335807244</td>\n",
       "      <td>1564609899</td>\n",
       "      <td>248</td>\n",
       "    </tr>\n",
       "    <tr>\n",
       "      <th>2350</th>\n",
       "      <td>CartScreenAppear</td>\n",
       "      <td>1694940645335807244</td>\n",
       "      <td>1564609899</td>\n",
       "      <td>248</td>\n",
       "    </tr>\n",
       "    <tr>\n",
       "      <th>3572</th>\n",
       "      <td>MainScreenAppear</td>\n",
       "      <td>434103746454591587</td>\n",
       "      <td>1564628377</td>\n",
       "      <td>248</td>\n",
       "    </tr>\n",
       "    <tr>\n",
       "      <th>...</th>\n",
       "      <td>...</td>\n",
       "      <td>...</td>\n",
       "      <td>...</td>\n",
       "      <td>...</td>\n",
       "    </tr>\n",
       "    <tr>\n",
       "      <th>242359</th>\n",
       "      <td>PaymentScreenSuccessful</td>\n",
       "      <td>2382591782303281935</td>\n",
       "      <td>1565206049</td>\n",
       "      <td>246</td>\n",
       "    </tr>\n",
       "    <tr>\n",
       "      <th>242360</th>\n",
       "      <td>PaymentScreenSuccessful</td>\n",
       "      <td>2382591782303281935</td>\n",
       "      <td>1565206049</td>\n",
       "      <td>246</td>\n",
       "    </tr>\n",
       "    <tr>\n",
       "      <th>242362</th>\n",
       "      <td>CartScreenAppear</td>\n",
       "      <td>2382591782303281935</td>\n",
       "      <td>1565206049</td>\n",
       "      <td>246</td>\n",
       "    </tr>\n",
       "    <tr>\n",
       "      <th>242634</th>\n",
       "      <td>MainScreenAppear</td>\n",
       "      <td>4097782667445790512</td>\n",
       "      <td>1565206618</td>\n",
       "      <td>246</td>\n",
       "    </tr>\n",
       "    <tr>\n",
       "      <th>242635</th>\n",
       "      <td>MainScreenAppear</td>\n",
       "      <td>4097782667445790512</td>\n",
       "      <td>1565206618</td>\n",
       "      <td>246</td>\n",
       "    </tr>\n",
       "  </tbody>\n",
       "</table>\n",
       "<p>768 rows × 4 columns</p>\n",
       "</div>"
      ],
      "text/plain": [
       "                      EventName         DeviceIDHash  EventTimestamp  ExpId\n",
       "452            MainScreenAppear  5613408041324010552      1564474784    248\n",
       "453            MainScreenAppear  5613408041324010552      1564474784    248\n",
       "2348           CartScreenAppear  1694940645335807244      1564609899    248\n",
       "2350           CartScreenAppear  1694940645335807244      1564609899    248\n",
       "3572           MainScreenAppear   434103746454591587      1564628377    248\n",
       "...                         ...                  ...             ...    ...\n",
       "242359  PaymentScreenSuccessful  2382591782303281935      1565206049    246\n",
       "242360  PaymentScreenSuccessful  2382591782303281935      1565206049    246\n",
       "242362         CartScreenAppear  2382591782303281935      1565206049    246\n",
       "242634         MainScreenAppear  4097782667445790512      1565206618    246\n",
       "242635         MainScreenAppear  4097782667445790512      1565206618    246\n",
       "\n",
       "[768 rows x 4 columns]"
      ]
     },
     "execution_count": 6,
     "metadata": {},
     "output_type": "execute_result"
    }
   ],
   "source": [
    "logs[logs.duplicated(keep=False)]"
   ]
  },
  {
   "cell_type": "markdown",
   "id": "3491b70c",
   "metadata": {},
   "source": [
    "Всего 413 дубликатов, удалим их"
   ]
  },
  {
   "cell_type": "code",
   "execution_count": 7,
   "id": "cf4eef28",
   "metadata": {},
   "outputs": [],
   "source": [
    "logs = logs.drop_duplicates()"
   ]
  },
  {
   "cell_type": "code",
   "execution_count": 8,
   "id": "ea57bd69",
   "metadata": {},
   "outputs": [
    {
     "data": {
      "text/plain": [
       "0"
      ]
     },
     "execution_count": 8,
     "metadata": {},
     "output_type": "execute_result"
    }
   ],
   "source": [
    "logs.duplicated().sum()"
   ]
  },
  {
   "cell_type": "markdown",
   "id": "10fbadb0",
   "metadata": {},
   "source": [
    "Изменим названия столбцов, разберемся с типом данных и сделаем новые столбцы с датами"
   ]
  },
  {
   "cell_type": "code",
   "execution_count": 9,
   "id": "65878e76",
   "metadata": {},
   "outputs": [],
   "source": [
    "logs.columns = ['event', 'id', 'dtime', 'experiment']"
   ]
  },
  {
   "cell_type": "markdown",
   "id": "6d2eacaf",
   "metadata": {},
   "source": [
    "Переведем дату из Unix формата в datetime"
   ]
  },
  {
   "cell_type": "code",
   "execution_count": 10,
   "id": "b3db09d8",
   "metadata": {
    "scrolled": true
   },
   "outputs": [],
   "source": [
    "logs.dtime = pd.to_datetime(logs.dtime, unit='s')"
   ]
  },
  {
   "cell_type": "code",
   "execution_count": 11,
   "id": "70e46fa5",
   "metadata": {},
   "outputs": [
    {
     "name": "stdout",
     "output_type": "stream",
     "text": [
      "<class 'pandas.core.frame.DataFrame'>\n",
      "Int64Index: 243713 entries, 0 to 244125\n",
      "Data columns (total 4 columns):\n",
      " #   Column      Non-Null Count   Dtype         \n",
      "---  ------      --------------   -----         \n",
      " 0   event       243713 non-null  object        \n",
      " 1   id          243713 non-null  int64         \n",
      " 2   dtime       243713 non-null  datetime64[ns]\n",
      " 3   experiment  243713 non-null  int64         \n",
      "dtypes: datetime64[ns](1), int64(2), object(1)\n",
      "memory usage: 9.3+ MB\n"
     ]
    }
   ],
   "source": [
    "logs.info()"
   ]
  },
  {
   "cell_type": "markdown",
   "id": "30853c11",
   "metadata": {},
   "source": [
    "Добавим колонку с датами"
   ]
  },
  {
   "cell_type": "code",
   "execution_count": 12,
   "id": "4719a77d",
   "metadata": {},
   "outputs": [],
   "source": [
    "logs['date'] = pd.to_datetime(logs.dtime.dt.date)"
   ]
  },
  {
   "cell_type": "code",
   "execution_count": 13,
   "id": "9ec02a03",
   "metadata": {},
   "outputs": [
    {
     "data": {
      "text/html": [
       "<div>\n",
       "<style scoped>\n",
       "    .dataframe tbody tr th:only-of-type {\n",
       "        vertical-align: middle;\n",
       "    }\n",
       "\n",
       "    .dataframe tbody tr th {\n",
       "        vertical-align: top;\n",
       "    }\n",
       "\n",
       "    .dataframe thead th {\n",
       "        text-align: right;\n",
       "    }\n",
       "</style>\n",
       "<table border=\"1\" class=\"dataframe\">\n",
       "  <thead>\n",
       "    <tr style=\"text-align: right;\">\n",
       "      <th></th>\n",
       "      <th>event</th>\n",
       "      <th>id</th>\n",
       "      <th>dtime</th>\n",
       "      <th>experiment</th>\n",
       "      <th>date</th>\n",
       "    </tr>\n",
       "  </thead>\n",
       "  <tbody>\n",
       "    <tr>\n",
       "      <th>0</th>\n",
       "      <td>MainScreenAppear</td>\n",
       "      <td>4575588528974610257</td>\n",
       "      <td>2019-07-25 04:43:36</td>\n",
       "      <td>246</td>\n",
       "      <td>2019-07-25</td>\n",
       "    </tr>\n",
       "    <tr>\n",
       "      <th>1</th>\n",
       "      <td>MainScreenAppear</td>\n",
       "      <td>7416695313311560658</td>\n",
       "      <td>2019-07-25 11:11:42</td>\n",
       "      <td>246</td>\n",
       "      <td>2019-07-25</td>\n",
       "    </tr>\n",
       "    <tr>\n",
       "      <th>2</th>\n",
       "      <td>PaymentScreenSuccessful</td>\n",
       "      <td>3518123091307005509</td>\n",
       "      <td>2019-07-25 11:28:47</td>\n",
       "      <td>248</td>\n",
       "      <td>2019-07-25</td>\n",
       "    </tr>\n",
       "    <tr>\n",
       "      <th>3</th>\n",
       "      <td>CartScreenAppear</td>\n",
       "      <td>3518123091307005509</td>\n",
       "      <td>2019-07-25 11:28:47</td>\n",
       "      <td>248</td>\n",
       "      <td>2019-07-25</td>\n",
       "    </tr>\n",
       "    <tr>\n",
       "      <th>4</th>\n",
       "      <td>PaymentScreenSuccessful</td>\n",
       "      <td>6217807653094995999</td>\n",
       "      <td>2019-07-25 11:48:42</td>\n",
       "      <td>248</td>\n",
       "      <td>2019-07-25</td>\n",
       "    </tr>\n",
       "  </tbody>\n",
       "</table>\n",
       "</div>"
      ],
      "text/plain": [
       "                     event                   id               dtime  \\\n",
       "0         MainScreenAppear  4575588528974610257 2019-07-25 04:43:36   \n",
       "1         MainScreenAppear  7416695313311560658 2019-07-25 11:11:42   \n",
       "2  PaymentScreenSuccessful  3518123091307005509 2019-07-25 11:28:47   \n",
       "3         CartScreenAppear  3518123091307005509 2019-07-25 11:28:47   \n",
       "4  PaymentScreenSuccessful  6217807653094995999 2019-07-25 11:48:42   \n",
       "\n",
       "   experiment       date  \n",
       "0         246 2019-07-25  \n",
       "1         246 2019-07-25  \n",
       "2         248 2019-07-25  \n",
       "3         248 2019-07-25  \n",
       "4         248 2019-07-25  "
      ]
     },
     "execution_count": 13,
     "metadata": {},
     "output_type": "execute_result"
    }
   ],
   "source": [
    "logs.head()"
   ]
  },
  {
   "cell_type": "markdown",
   "id": "5011272f",
   "metadata": {},
   "source": [
    "## Изучим и проверим данные в логах"
   ]
  },
  {
   "cell_type": "code",
   "execution_count": 14,
   "id": "d488beb0",
   "metadata": {},
   "outputs": [
    {
     "data": {
      "text/plain": [
       "array(['MainScreenAppear', 'PaymentScreenSuccessful', 'CartScreenAppear',\n",
       "       'OffersScreenAppear', 'Tutorial'], dtype=object)"
      ]
     },
     "execution_count": 14,
     "metadata": {},
     "output_type": "execute_result"
    }
   ],
   "source": [
    "logs.event.unique()"
   ]
  },
  {
   "cell_type": "markdown",
   "id": "9e74a5cf",
   "metadata": {},
   "source": [
    "Всего 4 типа событий: открытие главного экрана, экран успешной оплаты, экран корзины, экран товара, обучение"
   ]
  },
  {
   "cell_type": "code",
   "execution_count": 15,
   "id": "5587d371",
   "metadata": {},
   "outputs": [
    {
     "data": {
      "text/plain": [
       "7551"
      ]
     },
     "execution_count": 15,
     "metadata": {},
     "output_type": "execute_result"
    }
   ],
   "source": [
    "logs.id.nunique()"
   ]
  },
  {
   "cell_type": "markdown",
   "id": "33e17f25",
   "metadata": {},
   "source": [
    "Всего 7551 пользователь"
   ]
  },
  {
   "cell_type": "code",
   "execution_count": 16,
   "id": "f2484442",
   "metadata": {},
   "outputs": [
    {
     "data": {
      "text/plain": [
       "32.27559263673685"
      ]
     },
     "execution_count": 16,
     "metadata": {},
     "output_type": "execute_result"
    }
   ],
   "source": [
    "logs.groupby('id')['event'].count().mean()"
   ]
  },
  {
   "cell_type": "markdown",
   "id": "108b88bf",
   "metadata": {},
   "source": [
    "В среднем на пользователя приходится 32.3 события"
   ]
  },
  {
   "cell_type": "markdown",
   "id": "d428ebb0",
   "metadata": {},
   "source": [
    "Проверим за какие даты мы имеем данные."
   ]
  },
  {
   "cell_type": "code",
   "execution_count": 17,
   "id": "57ba08e6",
   "metadata": {},
   "outputs": [
    {
     "name": "stderr",
     "output_type": "stream",
     "text": [
      "/tmp/ipykernel_87/3300205688.py:1: FutureWarning: Treating datetime data as categorical rather than numeric in `.describe` is deprecated and will be removed in a future version of pandas. Specify `datetime_is_numeric=True` to silence this warning and adopt the future behavior now.\n",
      "  logs.date.describe()\n"
     ]
    },
    {
     "data": {
      "text/plain": [
       "count                  243713\n",
       "unique                     14\n",
       "top       2019-08-01 00:00:00\n",
       "freq                    36141\n",
       "first     2019-07-25 00:00:00\n",
       "last      2019-08-07 00:00:00\n",
       "Name: date, dtype: object"
      ]
     },
     "execution_count": 17,
     "metadata": {},
     "output_type": "execute_result"
    }
   ],
   "source": [
    "logs.date.describe()"
   ]
  },
  {
   "cell_type": "markdown",
   "id": "355daae0",
   "metadata": {},
   "source": [
    "У нас имеются данные за период с 25.07.2019 по 07.08.2019. Т.е. за 14 дней"
   ]
  },
  {
   "cell_type": "markdown",
   "id": "132c18c0",
   "metadata": {},
   "source": [
    "Построим график распределения событий по времени."
   ]
  },
  {
   "cell_type": "code",
   "execution_count": 51,
   "id": "01017568",
   "metadata": {},
   "outputs": [
    {
     "data": {
      "image/png": "[encoded data removed]",
      "text/plain": [
       "<Figure size 1008x360 with 1 Axes>"
      ]
     },
     "metadata": {
      "needs_background": "light"
     },
     "output_type": "display_data"
    }
   ],
   "source": [
    "logs['dtime'].hist(bins=14*24, figsize=(14, 5));"
   ]
  },
  {
   "cell_type": "code",
   "execution_count": 19,
   "id": "788cc5c5",
   "metadata": {},
   "outputs": [
    {
     "data": {
      "text/plain": [
       "240887"
      ]
     },
     "execution_count": 19,
     "metadata": {},
     "output_type": "execute_result"
    }
   ],
   "source": [
    "logs[logs.date > '2019-07-31'].shape[0]"
   ]
  },
  {
   "cell_type": "code",
   "execution_count": 20,
   "id": "3b0ea6dd",
   "metadata": {},
   "outputs": [
    {
     "data": {
      "text/plain": [
       "2826"
      ]
     },
     "execution_count": 20,
     "metadata": {},
     "output_type": "execute_result"
    }
   ],
   "source": [
    "logs[~(logs.date > '2019-07-31')].shape[0]"
   ]
  },
  {
   "cell_type": "code",
   "execution_count": 21,
   "id": "08ffd831",
   "metadata": {},
   "outputs": [
    {
     "data": {
      "text/plain": [
       "19"
      ]
     },
     "execution_count": 21,
     "metadata": {},
     "output_type": "execute_result"
    }
   ],
   "source": [
    "(logs[(logs.date < '2019-07-31')].id.isin(logs[logs.date > '2019-07-31'].id) == False).sum()"
   ]
  },
  {
   "cell_type": "markdown",
   "id": "ad86fb42",
   "metadata": {},
   "source": [
    "Установив порог даты в 01.08.2019, мы потеряли 2826 записей и 19 пользователей"
   ]
  },
  {
   "cell_type": "code",
   "execution_count": 22,
   "id": "0010ccf5",
   "metadata": {},
   "outputs": [],
   "source": [
    "logs = logs[logs.date > '2019-07-31']"
   ]
  },
  {
   "cell_type": "code",
   "execution_count": 23,
   "id": "36af1ca0",
   "metadata": {},
   "outputs": [
    {
     "data": {
      "text/plain": [
       "experiment\n",
       "246    79302\n",
       "247    77022\n",
       "248    84563\n",
       "Name: id, dtype: int64"
      ]
     },
     "execution_count": 23,
     "metadata": {},
     "output_type": "execute_result"
    }
   ],
   "source": [
    "logs.groupby('experiment')['id'].count()"
   ]
  },
  {
   "cell_type": "markdown",
   "id": "5ae503b4",
   "metadata": {},
   "source": [
    "В каждой группе имеется схожее количество записей."
   ]
  },
  {
   "cell_type": "markdown",
   "id": "f36c1228",
   "metadata": {},
   "source": [
    "## Изучим воронку событий"
   ]
  },
  {
   "cell_type": "code",
   "execution_count": 24,
   "id": "b729e450",
   "metadata": {},
   "outputs": [
    {
     "data": {
      "text/html": [
       "<div>\n",
       "<style scoped>\n",
       "    .dataframe tbody tr th:only-of-type {\n",
       "        vertical-align: middle;\n",
       "    }\n",
       "\n",
       "    .dataframe tbody tr th {\n",
       "        vertical-align: top;\n",
       "    }\n",
       "\n",
       "    .dataframe thead th {\n",
       "        text-align: right;\n",
       "    }\n",
       "</style>\n",
       "<table border=\"1\" class=\"dataframe\">\n",
       "  <thead>\n",
       "    <tr style=\"text-align: right;\">\n",
       "      <th></th>\n",
       "      <th>event</th>\n",
       "      <th>id</th>\n",
       "    </tr>\n",
       "  </thead>\n",
       "  <tbody>\n",
       "    <tr>\n",
       "      <th>1</th>\n",
       "      <td>MainScreenAppear</td>\n",
       "      <td>117328</td>\n",
       "    </tr>\n",
       "    <tr>\n",
       "      <th>2</th>\n",
       "      <td>OffersScreenAppear</td>\n",
       "      <td>46333</td>\n",
       "    </tr>\n",
       "    <tr>\n",
       "      <th>0</th>\n",
       "      <td>CartScreenAppear</td>\n",
       "      <td>42303</td>\n",
       "    </tr>\n",
       "    <tr>\n",
       "      <th>3</th>\n",
       "      <td>PaymentScreenSuccessful</td>\n",
       "      <td>33918</td>\n",
       "    </tr>\n",
       "    <tr>\n",
       "      <th>4</th>\n",
       "      <td>Tutorial</td>\n",
       "      <td>1005</td>\n",
       "    </tr>\n",
       "  </tbody>\n",
       "</table>\n",
       "</div>"
      ],
      "text/plain": [
       "                     event      id\n",
       "1         MainScreenAppear  117328\n",
       "2       OffersScreenAppear   46333\n",
       "0         CartScreenAppear   42303\n",
       "3  PaymentScreenSuccessful   33918\n",
       "4                 Tutorial    1005"
      ]
     },
     "execution_count": 24,
     "metadata": {},
     "output_type": "execute_result"
    }
   ],
   "source": [
    "logs.groupby('event', as_index=False)['id'].count().sort_values(by='id', ascending=False)"
   ]
  },
  {
   "cell_type": "markdown",
   "id": "c13a4594",
   "metadata": {},
   "source": [
    "По частоте события расположены вполен закономерно, сначала идет главное окно, затем окно товара, после него окно корзины и окно успешной оплаты. А вот обучение идет в самом конце и видимо не пользуется большим спросом."
   ]
  },
  {
   "cell_type": "code",
   "execution_count": 25,
   "id": "eb904b9f",
   "metadata": {},
   "outputs": [
    {
     "data": {
      "text/html": [
       "<div>\n",
       "<style scoped>\n",
       "    .dataframe tbody tr th:only-of-type {\n",
       "        vertical-align: middle;\n",
       "    }\n",
       "\n",
       "    .dataframe tbody tr th {\n",
       "        vertical-align: top;\n",
       "    }\n",
       "\n",
       "    .dataframe thead th {\n",
       "        text-align: right;\n",
       "    }\n",
       "</style>\n",
       "<table border=\"1\" class=\"dataframe\">\n",
       "  <thead>\n",
       "    <tr style=\"text-align: right;\">\n",
       "      <th></th>\n",
       "      <th>event</th>\n",
       "      <th>id</th>\n",
       "    </tr>\n",
       "  </thead>\n",
       "  <tbody>\n",
       "    <tr>\n",
       "      <th>0</th>\n",
       "      <td>MainScreenAppear</td>\n",
       "      <td>7419</td>\n",
       "    </tr>\n",
       "    <tr>\n",
       "      <th>1</th>\n",
       "      <td>OffersScreenAppear</td>\n",
       "      <td>4593</td>\n",
       "    </tr>\n",
       "    <tr>\n",
       "      <th>2</th>\n",
       "      <td>CartScreenAppear</td>\n",
       "      <td>3734</td>\n",
       "    </tr>\n",
       "    <tr>\n",
       "      <th>3</th>\n",
       "      <td>PaymentScreenSuccessful</td>\n",
       "      <td>3539</td>\n",
       "    </tr>\n",
       "    <tr>\n",
       "      <th>4</th>\n",
       "      <td>Tutorial</td>\n",
       "      <td>840</td>\n",
       "    </tr>\n",
       "  </tbody>\n",
       "</table>\n",
       "</div>"
      ],
      "text/plain": [
       "                     event    id\n",
       "0         MainScreenAppear  7419\n",
       "1       OffersScreenAppear  4593\n",
       "2         CartScreenAppear  3734\n",
       "3  PaymentScreenSuccessful  3539\n",
       "4                 Tutorial   840"
      ]
     },
     "execution_count": 25,
     "metadata": {},
     "output_type": "execute_result"
    }
   ],
   "source": [
    "funnel = logs.groupby('event', as_index=False)['id'].nunique().sort_values(by='id', ascending=False).reset_index(drop=True)\n",
    "funnel"
   ]
  },
  {
   "cell_type": "markdown",
   "id": "383a5fd8",
   "metadata": {},
   "source": [
    "Порядок событий по числу уникальных пользователей, которые это событие совершили сходно с таковым по количеству событий."
   ]
  },
  {
   "cell_type": "markdown",
   "id": "5330f53a",
   "metadata": {},
   "source": [
    "Проверим долю пользователей, который хоть раз совершали событие"
   ]
  },
  {
   "cell_type": "code",
   "execution_count": 26,
   "id": "a4a52337",
   "metadata": {},
   "outputs": [
    {
     "data": {
      "text/html": [
       "<div>\n",
       "<style scoped>\n",
       "    .dataframe tbody tr th:only-of-type {\n",
       "        vertical-align: middle;\n",
       "    }\n",
       "\n",
       "    .dataframe tbody tr th {\n",
       "        vertical-align: top;\n",
       "    }\n",
       "\n",
       "    .dataframe thead th {\n",
       "        text-align: right;\n",
       "    }\n",
       "</style>\n",
       "<table border=\"1\" class=\"dataframe\">\n",
       "  <thead>\n",
       "    <tr style=\"text-align: right;\">\n",
       "      <th></th>\n",
       "      <th>event</th>\n",
       "      <th>id</th>\n",
       "      <th>rate_com</th>\n",
       "    </tr>\n",
       "  </thead>\n",
       "  <tbody>\n",
       "    <tr>\n",
       "      <th>0</th>\n",
       "      <td>MainScreenAppear</td>\n",
       "      <td>7419</td>\n",
       "      <td>0.98</td>\n",
       "    </tr>\n",
       "    <tr>\n",
       "      <th>1</th>\n",
       "      <td>OffersScreenAppear</td>\n",
       "      <td>4593</td>\n",
       "      <td>0.61</td>\n",
       "    </tr>\n",
       "    <tr>\n",
       "      <th>2</th>\n",
       "      <td>CartScreenAppear</td>\n",
       "      <td>3734</td>\n",
       "      <td>0.50</td>\n",
       "    </tr>\n",
       "    <tr>\n",
       "      <th>3</th>\n",
       "      <td>PaymentScreenSuccessful</td>\n",
       "      <td>3539</td>\n",
       "      <td>0.47</td>\n",
       "    </tr>\n",
       "    <tr>\n",
       "      <th>4</th>\n",
       "      <td>Tutorial</td>\n",
       "      <td>840</td>\n",
       "      <td>0.11</td>\n",
       "    </tr>\n",
       "  </tbody>\n",
       "</table>\n",
       "</div>"
      ],
      "text/plain": [
       "                     event    id  rate_com\n",
       "0         MainScreenAppear  7419      0.98\n",
       "1       OffersScreenAppear  4593      0.61\n",
       "2         CartScreenAppear  3734      0.50\n",
       "3  PaymentScreenSuccessful  3539      0.47\n",
       "4                 Tutorial   840      0.11"
      ]
     },
     "execution_count": 26,
     "metadata": {},
     "output_type": "execute_result"
    }
   ],
   "source": [
    "funnel['rate_com'] = round(funnel.apply(lambda x: x[1] / logs.id.nunique(), axis=1),2)\n",
    "funnel"
   ]
  },
  {
   "cell_type": "markdown",
   "id": "92a48dff",
   "metadata": {},
   "source": [
    "Воронка событий выстраивается следующим образом: Сначала пользователей попадает на главный экран, затем заходит на страницу товара, после чего добавляет его в корзину и наконец оплачивает его. Обучение в воронку не входит, так как пользователь может совершать покупку и другие дествия из воронки вне зависимости от того, прошел ли он обучение."
   ]
  },
  {
   "cell_type": "code",
   "execution_count": 27,
   "id": "534574fc",
   "metadata": {},
   "outputs": [],
   "source": [
    "funnel.drop(4, inplace=True)"
   ]
  },
  {
   "cell_type": "code",
   "execution_count": 28,
   "id": "d313cf34",
   "metadata": {
    "scrolled": true
   },
   "outputs": [],
   "source": [
    "funnel['funnel_rate'] = 1\n",
    "funnel['funnel_rate_consequence'] = 1\n",
    "for i in funnel.iterrows():\n",
    "    if i[0] > 0 :\n",
    "        funnel.loc[i[0], 'funnel_rate'] = round(funnel.id[i[0]] / funnel.id[i[0]-1],2)\n",
    "        funnel.loc[i[0], 'funnel_rate_consequence'] = round(funnel.funnel_rate[i[0]] * funnel.funnel_rate_consequence[i[0]-1],2)"
   ]
  },
  {
   "cell_type": "markdown",
   "id": "40905357",
   "metadata": {},
   "source": [
    "funnel_rate - доля пользователей перешедших с прошлой стадии воронки. funnel_rate_consequence - доля пользователей дошедших до воронки от ее начала"
   ]
  },
  {
   "cell_type": "code",
   "execution_count": 29,
   "id": "87e764e3",
   "metadata": {},
   "outputs": [
    {
     "data": {
      "text/html": [
       "<div>\n",
       "<style scoped>\n",
       "    .dataframe tbody tr th:only-of-type {\n",
       "        vertical-align: middle;\n",
       "    }\n",
       "\n",
       "    .dataframe tbody tr th {\n",
       "        vertical-align: top;\n",
       "    }\n",
       "\n",
       "    .dataframe thead th {\n",
       "        text-align: right;\n",
       "    }\n",
       "</style>\n",
       "<table border=\"1\" class=\"dataframe\">\n",
       "  <thead>\n",
       "    <tr style=\"text-align: right;\">\n",
       "      <th></th>\n",
       "      <th>event</th>\n",
       "      <th>id</th>\n",
       "      <th>rate_com</th>\n",
       "      <th>funnel_rate</th>\n",
       "      <th>funnel_rate_consequence</th>\n",
       "    </tr>\n",
       "  </thead>\n",
       "  <tbody>\n",
       "    <tr>\n",
       "      <th>0</th>\n",
       "      <td>MainScreenAppear</td>\n",
       "      <td>7419</td>\n",
       "      <td>0.98</td>\n",
       "      <td>1.00</td>\n",
       "      <td>1.00</td>\n",
       "    </tr>\n",
       "    <tr>\n",
       "      <th>1</th>\n",
       "      <td>OffersScreenAppear</td>\n",
       "      <td>4593</td>\n",
       "      <td>0.61</td>\n",
       "      <td>0.62</td>\n",
       "      <td>0.62</td>\n",
       "    </tr>\n",
       "    <tr>\n",
       "      <th>2</th>\n",
       "      <td>CartScreenAppear</td>\n",
       "      <td>3734</td>\n",
       "      <td>0.50</td>\n",
       "      <td>0.81</td>\n",
       "      <td>0.50</td>\n",
       "    </tr>\n",
       "    <tr>\n",
       "      <th>3</th>\n",
       "      <td>PaymentScreenSuccessful</td>\n",
       "      <td>3539</td>\n",
       "      <td>0.47</td>\n",
       "      <td>0.95</td>\n",
       "      <td>0.48</td>\n",
       "    </tr>\n",
       "  </tbody>\n",
       "</table>\n",
       "</div>"
      ],
      "text/plain": [
       "                     event    id  rate_com  funnel_rate  \\\n",
       "0         MainScreenAppear  7419      0.98         1.00   \n",
       "1       OffersScreenAppear  4593      0.61         0.62   \n",
       "2         CartScreenAppear  3734      0.50         0.81   \n",
       "3  PaymentScreenSuccessful  3539      0.47         0.95   \n",
       "\n",
       "   funnel_rate_consequence  \n",
       "0                     1.00  \n",
       "1                     0.62  \n",
       "2                     0.50  \n",
       "3                     0.48  "
      ]
     },
     "execution_count": 29,
     "metadata": {},
     "output_type": "execute_result"
    }
   ],
   "source": [
    "funnel"
   ]
  },
  {
   "cell_type": "markdown",
   "id": "94f1c267",
   "metadata": {},
   "source": [
    "Больше всего пользователей отпадает на стадии выбора продукта. До конца воронки доходят 48% пользователей"
   ]
  },
  {
   "cell_type": "markdown",
   "id": "a3789a33",
   "metadata": {},
   "source": [
    "## Изучаем результат эксперимента"
   ]
  },
  {
   "cell_type": "markdown",
   "id": "7f1a6dbc",
   "metadata": {},
   "source": [
    "Уберем из датасета событие Tutorial, т.к оно не влияет на воронку продаж"
   ]
  },
  {
   "cell_type": "code",
   "execution_count": 30,
   "id": "d82d5800",
   "metadata": {},
   "outputs": [],
   "source": [
    "logs = logs[logs.event != 'Tutorial']"
   ]
  },
  {
   "cell_type": "markdown",
   "id": "064baf58",
   "metadata": {},
   "source": [
    "Определим кол-во пользователей в каждой группе"
   ]
  },
  {
   "cell_type": "code",
   "execution_count": 31,
   "id": "127656ca",
   "metadata": {},
   "outputs": [
    {
     "data": {
      "text/html": [
       "<div>\n",
       "<style scoped>\n",
       "    .dataframe tbody tr th:only-of-type {\n",
       "        vertical-align: middle;\n",
       "    }\n",
       "\n",
       "    .dataframe tbody tr th {\n",
       "        vertical-align: top;\n",
       "    }\n",
       "\n",
       "    .dataframe thead th {\n",
       "        text-align: right;\n",
       "    }\n",
       "</style>\n",
       "<table border=\"1\" class=\"dataframe\">\n",
       "  <thead>\n",
       "    <tr style=\"text-align: right;\">\n",
       "      <th></th>\n",
       "      <th>experiment</th>\n",
       "      <th>id</th>\n",
       "    </tr>\n",
       "  </thead>\n",
       "  <tbody>\n",
       "    <tr>\n",
       "      <th>0</th>\n",
       "      <td>246</td>\n",
       "      <td>2483</td>\n",
       "    </tr>\n",
       "    <tr>\n",
       "      <th>1</th>\n",
       "      <td>247</td>\n",
       "      <td>2512</td>\n",
       "    </tr>\n",
       "    <tr>\n",
       "      <th>2</th>\n",
       "      <td>248</td>\n",
       "      <td>2535</td>\n",
       "    </tr>\n",
       "  </tbody>\n",
       "</table>\n",
       "</div>"
      ],
      "text/plain": [
       "   experiment    id\n",
       "0         246  2483\n",
       "1         247  2512\n",
       "2         248  2535"
      ]
     },
     "execution_count": 31,
     "metadata": {},
     "output_type": "execute_result"
    }
   ],
   "source": [
    "logs.groupby('experiment', as_index = False)['id'].nunique()"
   ]
  },
  {
   "cell_type": "markdown",
   "id": "036c6630",
   "metadata": {},
   "source": [
    "В группе 246 - 2483 пользователя, в группе 247 - 2512, а в группе 248 - 2535"
   ]
  },
  {
   "cell_type": "markdown",
   "id": "f64b0f8f",
   "metadata": {},
   "source": [
    "Посчитаем общее кол-во пользователей в группе(потом пригодится)"
   ]
  },
  {
   "cell_type": "code",
   "execution_count": 32,
   "id": "25a5d0b5",
   "metadata": {},
   "outputs": [],
   "source": [
    "total = {246 : logs[logs.experiment == 246].id.nunique(), 247 : logs[logs.experiment == 247].id.nunique(), 248 : logs[logs.experiment == 248].id.nunique(), 245 : logs[logs.experiment == 246].id.nunique() + logs[logs.experiment == 247].id.nunique()}\n"
   ]
  },
  {
   "cell_type": "markdown",
   "id": "d8d290e7",
   "metadata": {},
   "source": [
    "Создадим датасеты с данными по всем группам"
   ]
  },
  {
   "cell_type": "code",
   "execution_count": 33,
   "id": "429d6afe",
   "metadata": {},
   "outputs": [
    {
     "data": {
      "text/html": [
       "<div>\n",
       "<style scoped>\n",
       "    .dataframe tbody tr th:only-of-type {\n",
       "        vertical-align: middle;\n",
       "    }\n",
       "\n",
       "    .dataframe tbody tr th {\n",
       "        vertical-align: top;\n",
       "    }\n",
       "\n",
       "    .dataframe thead th {\n",
       "        text-align: right;\n",
       "    }\n",
       "</style>\n",
       "<table border=\"1\" class=\"dataframe\">\n",
       "  <thead>\n",
       "    <tr style=\"text-align: right;\">\n",
       "      <th></th>\n",
       "      <th>event</th>\n",
       "      <th>id</th>\n",
       "      <th>dtime</th>\n",
       "      <th>experiment</th>\n",
       "      <th>date</th>\n",
       "    </tr>\n",
       "  </thead>\n",
       "  <tbody>\n",
       "    <tr>\n",
       "      <th>2829</th>\n",
       "      <td>MainScreenAppear</td>\n",
       "      <td>3737462046622621720</td>\n",
       "      <td>2019-08-01 00:08:00</td>\n",
       "      <td>246</td>\n",
       "      <td>2019-08-01</td>\n",
       "    </tr>\n",
       "    <tr>\n",
       "      <th>2830</th>\n",
       "      <td>MainScreenAppear</td>\n",
       "      <td>3737462046622621720</td>\n",
       "      <td>2019-08-01 00:08:55</td>\n",
       "      <td>246</td>\n",
       "      <td>2019-08-01</td>\n",
       "    </tr>\n",
       "    <tr>\n",
       "      <th>2831</th>\n",
       "      <td>OffersScreenAppear</td>\n",
       "      <td>3737462046622621720</td>\n",
       "      <td>2019-08-01 00:08:58</td>\n",
       "      <td>246</td>\n",
       "      <td>2019-08-01</td>\n",
       "    </tr>\n",
       "    <tr>\n",
       "      <th>2832</th>\n",
       "      <td>MainScreenAppear</td>\n",
       "      <td>1433840883824088890</td>\n",
       "      <td>2019-08-01 00:08:59</td>\n",
       "      <td>247</td>\n",
       "      <td>2019-08-01</td>\n",
       "    </tr>\n",
       "    <tr>\n",
       "      <th>2833</th>\n",
       "      <td>MainScreenAppear</td>\n",
       "      <td>4899590676214355127</td>\n",
       "      <td>2019-08-01 00:10:15</td>\n",
       "      <td>247</td>\n",
       "      <td>2019-08-01</td>\n",
       "    </tr>\n",
       "    <tr>\n",
       "      <th>...</th>\n",
       "      <td>...</td>\n",
       "      <td>...</td>\n",
       "      <td>...</td>\n",
       "      <td>...</td>\n",
       "      <td>...</td>\n",
       "    </tr>\n",
       "    <tr>\n",
       "      <th>244121</th>\n",
       "      <td>MainScreenAppear</td>\n",
       "      <td>4599628364049201812</td>\n",
       "      <td>2019-08-07 21:12:25</td>\n",
       "      <td>247</td>\n",
       "      <td>2019-08-07</td>\n",
       "    </tr>\n",
       "    <tr>\n",
       "      <th>244122</th>\n",
       "      <td>MainScreenAppear</td>\n",
       "      <td>5849806612437486590</td>\n",
       "      <td>2019-08-07 21:13:59</td>\n",
       "      <td>246</td>\n",
       "      <td>2019-08-07</td>\n",
       "    </tr>\n",
       "    <tr>\n",
       "      <th>244123</th>\n",
       "      <td>MainScreenAppear</td>\n",
       "      <td>5746969938801999050</td>\n",
       "      <td>2019-08-07 21:14:43</td>\n",
       "      <td>246</td>\n",
       "      <td>2019-08-07</td>\n",
       "    </tr>\n",
       "    <tr>\n",
       "      <th>244124</th>\n",
       "      <td>MainScreenAppear</td>\n",
       "      <td>5746969938801999050</td>\n",
       "      <td>2019-08-07 21:14:58</td>\n",
       "      <td>246</td>\n",
       "      <td>2019-08-07</td>\n",
       "    </tr>\n",
       "    <tr>\n",
       "      <th>244125</th>\n",
       "      <td>OffersScreenAppear</td>\n",
       "      <td>5746969938801999050</td>\n",
       "      <td>2019-08-07 21:15:17</td>\n",
       "      <td>246</td>\n",
       "      <td>2019-08-07</td>\n",
       "    </tr>\n",
       "  </tbody>\n",
       "</table>\n",
       "<p>239882 rows × 5 columns</p>\n",
       "</div>"
      ],
      "text/plain": [
       "                     event                   id               dtime  \\\n",
       "2829      MainScreenAppear  3737462046622621720 2019-08-01 00:08:00   \n",
       "2830      MainScreenAppear  3737462046622621720 2019-08-01 00:08:55   \n",
       "2831    OffersScreenAppear  3737462046622621720 2019-08-01 00:08:58   \n",
       "2832      MainScreenAppear  1433840883824088890 2019-08-01 00:08:59   \n",
       "2833      MainScreenAppear  4899590676214355127 2019-08-01 00:10:15   \n",
       "...                    ...                  ...                 ...   \n",
       "244121    MainScreenAppear  4599628364049201812 2019-08-07 21:12:25   \n",
       "244122    MainScreenAppear  5849806612437486590 2019-08-07 21:13:59   \n",
       "244123    MainScreenAppear  5746969938801999050 2019-08-07 21:14:43   \n",
       "244124    MainScreenAppear  5746969938801999050 2019-08-07 21:14:58   \n",
       "244125  OffersScreenAppear  5746969938801999050 2019-08-07 21:15:17   \n",
       "\n",
       "        experiment       date  \n",
       "2829           246 2019-08-01  \n",
       "2830           246 2019-08-01  \n",
       "2831           246 2019-08-01  \n",
       "2832           247 2019-08-01  \n",
       "2833           247 2019-08-01  \n",
       "...            ...        ...  \n",
       "244121         247 2019-08-07  \n",
       "244122         246 2019-08-07  \n",
       "244123         246 2019-08-07  \n",
       "244124         246 2019-08-07  \n",
       "244125         246 2019-08-07  \n",
       "\n",
       "[239882 rows x 5 columns]"
      ]
     },
     "execution_count": 33,
     "metadata": {},
     "output_type": "execute_result"
    }
   ],
   "source": [
    "logs"
   ]
  },
  {
   "cell_type": "code",
   "execution_count": 34,
   "id": "7130df8e",
   "metadata": {},
   "outputs": [],
   "source": [
    "log_a_1 = logs[logs.experiment == 246].pivot_table(index='id', columns='event', values='date', aggfunc='count').reset_index().fillna(0)\n",
    "log_a_2 = logs[logs.experiment == 247].pivot_table(index='id', columns='event', values='date', aggfunc='count').reset_index().fillna(0)\n",
    "log_b = logs[logs.experiment == 248].pivot_table(index='id', columns='event', values='date', aggfunc='count').reset_index().fillna(0)"
   ]
  },
  {
   "cell_type": "code",
   "execution_count": null,
   "id": "edf5c9df",
   "metadata": {},
   "outputs": [],
   "source": []
  },
  {
   "cell_type": "code",
   "execution_count": 35,
   "id": "fd153917",
   "metadata": {
    "scrolled": false
   },
   "outputs": [],
   "source": [
    "log_a_1 = log_a_1.apply(lambda x: x/x, axis = 1).fillna(0).drop(columns='id')\n",
    "log_a_2 = log_a_2.apply(lambda x: x/x, axis = 1).fillna(0).drop(columns='id')\n",
    "log_b = log_b.apply(lambda x: x/x, axis = 1).fillna(0).drop(columns='id')\n",
    "log_a_1['event'] = 246\n",
    "log_a_2['event'] = 247\n",
    "log_b['event'] = 248"
   ]
  },
  {
   "cell_type": "code",
   "execution_count": 36,
   "id": "4dd9bba2",
   "metadata": {},
   "outputs": [],
   "source": [
    "log_a_1_2 = pd.concat([log_a_1, log_a_2])\n",
    "log_a_1_2['event'] = 245"
   ]
  },
  {
   "cell_type": "code",
   "execution_count": 37,
   "id": "c13c6491",
   "metadata": {},
   "outputs": [
    {
     "data": {
      "text/plain": [
       "Index(['CartScreenAppear', 'MainScreenAppear', 'OffersScreenAppear',\n",
       "       'PaymentScreenSuccessful', 'event'],\n",
       "      dtype='object', name='event')"
      ]
     },
     "execution_count": 37,
     "metadata": {},
     "output_type": "execute_result"
    }
   ],
   "source": [
    "log_a_1.columns"
   ]
  },
  {
   "cell_type": "code",
   "execution_count": 38,
   "id": "a08dc8cb",
   "metadata": {},
   "outputs": [
    {
     "data": {
      "text/html": [
       "<div>\n",
       "<style scoped>\n",
       "    .dataframe tbody tr th:only-of-type {\n",
       "        vertical-align: middle;\n",
       "    }\n",
       "\n",
       "    .dataframe tbody tr th {\n",
       "        vertical-align: top;\n",
       "    }\n",
       "\n",
       "    .dataframe thead th {\n",
       "        text-align: right;\n",
       "    }\n",
       "</style>\n",
       "<table border=\"1\" class=\"dataframe\">\n",
       "  <thead>\n",
       "    <tr style=\"text-align: right;\">\n",
       "      <th>event</th>\n",
       "      <th>CartScreenAppear</th>\n",
       "      <th>MainScreenAppear</th>\n",
       "      <th>OffersScreenAppear</th>\n",
       "      <th>PaymentScreenSuccessful</th>\n",
       "      <th>event</th>\n",
       "    </tr>\n",
       "  </thead>\n",
       "  <tbody>\n",
       "    <tr>\n",
       "      <th>0</th>\n",
       "      <td>0.0</td>\n",
       "      <td>1.0</td>\n",
       "      <td>0.0</td>\n",
       "      <td>0.0</td>\n",
       "      <td>246</td>\n",
       "    </tr>\n",
       "    <tr>\n",
       "      <th>1</th>\n",
       "      <td>1.0</td>\n",
       "      <td>1.0</td>\n",
       "      <td>1.0</td>\n",
       "      <td>1.0</td>\n",
       "      <td>246</td>\n",
       "    </tr>\n",
       "    <tr>\n",
       "      <th>2</th>\n",
       "      <td>0.0</td>\n",
       "      <td>1.0</td>\n",
       "      <td>1.0</td>\n",
       "      <td>0.0</td>\n",
       "      <td>246</td>\n",
       "    </tr>\n",
       "    <tr>\n",
       "      <th>3</th>\n",
       "      <td>0.0</td>\n",
       "      <td>1.0</td>\n",
       "      <td>1.0</td>\n",
       "      <td>0.0</td>\n",
       "      <td>246</td>\n",
       "    </tr>\n",
       "    <tr>\n",
       "      <th>4</th>\n",
       "      <td>1.0</td>\n",
       "      <td>1.0</td>\n",
       "      <td>1.0</td>\n",
       "      <td>1.0</td>\n",
       "      <td>246</td>\n",
       "    </tr>\n",
       "    <tr>\n",
       "      <th>...</th>\n",
       "      <td>...</td>\n",
       "      <td>...</td>\n",
       "      <td>...</td>\n",
       "      <td>...</td>\n",
       "      <td>...</td>\n",
       "    </tr>\n",
       "    <tr>\n",
       "      <th>2478</th>\n",
       "      <td>0.0</td>\n",
       "      <td>1.0</td>\n",
       "      <td>0.0</td>\n",
       "      <td>0.0</td>\n",
       "      <td>246</td>\n",
       "    </tr>\n",
       "    <tr>\n",
       "      <th>2479</th>\n",
       "      <td>1.0</td>\n",
       "      <td>1.0</td>\n",
       "      <td>1.0</td>\n",
       "      <td>1.0</td>\n",
       "      <td>246</td>\n",
       "    </tr>\n",
       "    <tr>\n",
       "      <th>2480</th>\n",
       "      <td>1.0</td>\n",
       "      <td>0.0</td>\n",
       "      <td>1.0</td>\n",
       "      <td>1.0</td>\n",
       "      <td>246</td>\n",
       "    </tr>\n",
       "    <tr>\n",
       "      <th>2481</th>\n",
       "      <td>1.0</td>\n",
       "      <td>1.0</td>\n",
       "      <td>1.0</td>\n",
       "      <td>0.0</td>\n",
       "      <td>246</td>\n",
       "    </tr>\n",
       "    <tr>\n",
       "      <th>2482</th>\n",
       "      <td>0.0</td>\n",
       "      <td>1.0</td>\n",
       "      <td>0.0</td>\n",
       "      <td>0.0</td>\n",
       "      <td>246</td>\n",
       "    </tr>\n",
       "  </tbody>\n",
       "</table>\n",
       "<p>2483 rows × 5 columns</p>\n",
       "</div>"
      ],
      "text/plain": [
       "event  CartScreenAppear  MainScreenAppear  OffersScreenAppear  \\\n",
       "0                   0.0               1.0                 0.0   \n",
       "1                   1.0               1.0                 1.0   \n",
       "2                   0.0               1.0                 1.0   \n",
       "3                   0.0               1.0                 1.0   \n",
       "4                   1.0               1.0                 1.0   \n",
       "...                 ...               ...                 ...   \n",
       "2478                0.0               1.0                 0.0   \n",
       "2479                1.0               1.0                 1.0   \n",
       "2480                1.0               0.0                 1.0   \n",
       "2481                1.0               1.0                 1.0   \n",
       "2482                0.0               1.0                 0.0   \n",
       "\n",
       "event  PaymentScreenSuccessful  event  \n",
       "0                          0.0    246  \n",
       "1                          1.0    246  \n",
       "2                          0.0    246  \n",
       "3                          0.0    246  \n",
       "4                          1.0    246  \n",
       "...                        ...    ...  \n",
       "2478                       0.0    246  \n",
       "2479                       1.0    246  \n",
       "2480                       1.0    246  \n",
       "2481                       0.0    246  \n",
       "2482                       0.0    246  \n",
       "\n",
       "[2483 rows x 5 columns]"
      ]
     },
     "execution_count": 38,
     "metadata": {},
     "output_type": "execute_result"
    }
   ],
   "source": [
    "log_a_1"
   ]
  },
  {
   "cell_type": "markdown",
   "id": "f59c7721",
   "metadata": {},
   "source": [
    "Для начала возьмем альфа уровень значимости равен 0.05"
   ]
  },
  {
   "cell_type": "code",
   "execution_count": 39,
   "id": "c7937ebf",
   "metadata": {},
   "outputs": [],
   "source": [
    "alpha = 0.05"
   ]
  },
  {
   "cell_type": "markdown",
   "id": "29deeee7",
   "metadata": {},
   "source": [
    "Определим функцию для расчета показателей и их статистической значимости"
   ]
  },
  {
   "cell_type": "code",
   "execution_count": 40,
   "id": "befee68a",
   "metadata": {},
   "outputs": [],
   "source": [
    "def stat_event(df_a, df_b, event, alpha = alpha):\n",
    "    p1 = df_a[event].sum() / total[df_a.iloc[0].event]\n",
    "    p2 = df_b[event].sum() / total[df_b.iloc[0].event]\n",
    "    p_comb = (df_a[event].sum() + df_b[event].sum()) / (total[df_a.iloc[0].event] + total[df_b.iloc[0].event])\n",
    "    difference = p1 - p2\n",
    "    z_value = difference / mth.sqrt(p_comb * (1 - p_comb) * (1/total[df_a.iloc[0].event] + 1/total[df_b.iloc[0].event]))\n",
    "    distr = st.norm(0, 1)\n",
    "    p_value = (1 - distr.cdf(abs(z_value))) * 2                                                    \n",
    "    print(f\"Число пользователей совершивших действие {event} в группе А : {df_a[event].sum()}\")\n",
    "    print(f\"Число пользователей совершивших действие {event} в группе В : {df_b[event].sum()}\")\n",
    "    print(f\"Доля пользователей совершивших действие {event} в группе А : {round(p1, 2)}\")\n",
    "    print(f\"Доля пользователей совершивших действие {event} в группе В : {round(p2, 2)}\")\n",
    "    print(f\"Относительная разница доли пользователей = {round((p2 / p1) - 1 ,3) } p-value = {p_value}\")\n",
    "    if p_value >= alpha:\n",
    "        print('Разница статистически незначима')\n",
    "    else:\n",
    "        print('Разница статистически значима')\n",
    "    print('')\n",
    "    return"
   ]
  },
  {
   "cell_type": "code",
   "execution_count": 41,
   "id": "effdf60d",
   "metadata": {
    "scrolled": true
   },
   "outputs": [
    {
     "name": "stdout",
     "output_type": "stream",
     "text": [
      "Число пользователей совершивших действие CartScreenAppear в группе А : 1266.0\n",
      "Число пользователей совершивших действие CartScreenAppear в группе В : 1238.0\n",
      "Доля пользователей совершивших действие CartScreenAppear в группе А : 0.51\n",
      "Доля пользователей совершивших действие CartScreenAppear в группе В : 0.49\n",
      "Относительная разница доли пользователей = -0.033 p-value = 0.22867643757335676\n",
      "Разница статистически незначима\n",
      "\n",
      "Число пользователей совершивших действие MainScreenAppear в группе А : 2450.0\n",
      "Число пользователей совершивших действие MainScreenAppear в группе В : 2476.0\n",
      "Доля пользователей совершивших действие MainScreenAppear в группе А : 0.99\n",
      "Доля пользователей совершивших действие MainScreenAppear в группе В : 0.99\n",
      "Относительная разница доли пользователей = -0.001 p-value = 0.7526703436483038\n",
      "Разница статистически незначима\n",
      "\n",
      "Число пользователей совершивших действие OffersScreenAppear в группе А : 1542.0\n",
      "Число пользователей совершивших действие OffersScreenAppear в группе В : 1520.0\n",
      "Доля пользователей совершивших действие OffersScreenAppear в группе А : 0.62\n",
      "Доля пользователей совершивших действие OffersScreenAppear в группе В : 0.61\n",
      "Относительная разница доли пользователей = -0.026 p-value = 0.24786096925282264\n",
      "Разница статистически незначима\n",
      "\n",
      "Число пользователей совершивших действие PaymentScreenSuccessful в группе А : 1200.0\n",
      "Число пользователей совершивших действие PaymentScreenSuccessful в группе В : 1158.0\n",
      "Доля пользователей совершивших действие PaymentScreenSuccessful в группе А : 0.48\n",
      "Доля пользователей совершивших действие PaymentScreenSuccessful в группе В : 0.46\n",
      "Относительная разница доли пользователей = -0.046 p-value = 0.11446627829276612\n",
      "Разница статистически незначима\n",
      "\n"
     ]
    }
   ],
   "source": [
    "for i in log_a_1.columns:\n",
    "    if i != 'event':\n",
    "        stat_event(log_a_1, log_a_2, i)"
   ]
  },
  {
   "cell_type": "code",
   "execution_count": 42,
   "id": "3f7895f1",
   "metadata": {},
   "outputs": [
    {
     "name": "stdout",
     "output_type": "stream",
     "text": [
      "Число пользователей совершивших действие CartScreenAppear в группе А : 1266.0\n",
      "Число пользователей совершивших действие CartScreenAppear в группе В : 1230.0\n",
      "Доля пользователей совершивших действие CartScreenAppear в группе А : 0.51\n",
      "Доля пользователей совершивших действие CartScreenAppear в группе В : 0.49\n",
      "Относительная разница доли пользователей = -0.048 p-value = 0.08067367598823139\n",
      "Разница статистически незначима\n",
      "\n",
      "Число пользователей совершивших действие MainScreenAppear в группе А : 2450.0\n",
      "Число пользователей совершивших действие MainScreenAppear в группе В : 2493.0\n",
      "Доля пользователей совершивших действие MainScreenAppear в группе А : 0.99\n",
      "Доля пользователей совершивших действие MainScreenAppear в группе В : 0.98\n",
      "Относительная разница доли пользователей = -0.003 p-value = 0.3387114076159288\n",
      "Разница статистически незначима\n",
      "\n",
      "Число пользователей совершивших действие OffersScreenAppear в группе А : 1542.0\n",
      "Число пользователей совершивших действие OffersScreenAppear в группе В : 1531.0\n",
      "Доля пользователей совершивших действие OffersScreenAppear в группе А : 0.62\n",
      "Доля пользователей совершивших действие OffersScreenAppear в группе В : 0.6\n",
      "Относительная разница доли пользователей = -0.028 p-value = 0.21442476639710506\n",
      "Разница статистически незначима\n",
      "\n",
      "Число пользователей совершивших действие PaymentScreenSuccessful в группе А : 1200.0\n",
      "Число пользователей совершивших действие PaymentScreenSuccessful в группе В : 1181.0\n",
      "Доля пользователей совершивших действие PaymentScreenSuccessful в группе А : 0.48\n",
      "Доля пользователей совершивших действие PaymentScreenSuccessful в группе В : 0.47\n",
      "Относительная разница доли пользователей = -0.036 p-value = 0.21693033984516674\n",
      "Разница статистически незначима\n",
      "\n"
     ]
    }
   ],
   "source": [
    "for i in log_a_1.columns:\n",
    "    if i != 'event':\n",
    "        stat_event(log_a_1, log_b, i)"
   ]
  },
  {
   "cell_type": "code",
   "execution_count": 43,
   "id": "e34e8e67",
   "metadata": {},
   "outputs": [
    {
     "name": "stdout",
     "output_type": "stream",
     "text": [
      "Число пользователей совершивших действие CartScreenAppear в группе А : 1238.0\n",
      "Число пользователей совершивших действие CartScreenAppear в группе В : 1230.0\n",
      "Доля пользователей совершивших действие CartScreenAppear в группе А : 0.49\n",
      "Доля пользователей совершивших действие CartScreenAppear в группе В : 0.49\n",
      "Относительная разница доли пользователей = -0.015 p-value = 0.5878284605111943\n",
      "Разница статистически незначима\n",
      "\n",
      "Число пользователей совершивших действие MainScreenAppear в группе А : 2476.0\n",
      "Число пользователей совершивших действие MainScreenAppear в группе В : 2493.0\n",
      "Доля пользователей совершивших действие MainScreenAppear в группе А : 0.99\n",
      "Доля пользователей совершивших действие MainScreenAppear в группе В : 0.98\n",
      "Относительная разница доли пользователей = -0.002 p-value = 0.5194964354051703\n",
      "Разница статистически незначима\n",
      "\n",
      "Число пользователей совершивших действие OffersScreenAppear в группе А : 1520.0\n",
      "Число пользователей совершивших действие OffersScreenAppear в группе В : 1531.0\n",
      "Доля пользователей совершивших действие OffersScreenAppear в группе А : 0.61\n",
      "Доля пользователей совершивших действие OffersScreenAppear в группе В : 0.6\n",
      "Относительная разница доли пользователей = -0.002 p-value = 0.9333751305879443\n",
      "Разница статистически незначима\n",
      "\n",
      "Число пользователей совершивших действие PaymentScreenSuccessful в группе А : 1158.0\n",
      "Число пользователей совершивших действие PaymentScreenSuccessful в группе В : 1181.0\n",
      "Доля пользователей совершивших действие PaymentScreenSuccessful в группе А : 0.46\n",
      "Доля пользователей совершивших действие PaymentScreenSuccessful в группе В : 0.47\n",
      "Относительная разница доли пользователей = 0.011 p-value = 0.7275718682261119\n",
      "Разница статистически незначима\n",
      "\n"
     ]
    }
   ],
   "source": [
    "for i in log_a_1.columns:\n",
    "    if i != 'event':\n",
    "        stat_event(log_a_2, log_b, i)"
   ]
  },
  {
   "cell_type": "code",
   "execution_count": 44,
   "id": "f9a2c584",
   "metadata": {
    "scrolled": false
   },
   "outputs": [
    {
     "name": "stdout",
     "output_type": "stream",
     "text": [
      "Число пользователей совершивших действие CartScreenAppear в группе А : 2504.0\n",
      "Число пользователей совершивших действие CartScreenAppear в группе В : 1230.0\n",
      "Доля пользователей совершивших действие CartScreenAppear в группе А : 0.5\n",
      "Доля пользователей совершивших действие CartScreenAppear в группе В : 0.49\n",
      "Относительная разница доли пользователей = -0.032 p-value = 0.18683558686831558\n",
      "Разница статистически незначима\n",
      "\n",
      "Число пользователей совершивших действие MainScreenAppear в группе А : 4926.0\n",
      "Число пользователей совершивших действие MainScreenAppear в группе В : 2493.0\n",
      "Доля пользователей совершивших действие MainScreenAppear в группе А : 0.99\n",
      "Доля пользователей совершивших действие MainScreenAppear в группе В : 0.98\n",
      "Относительная разница доли пользователей = -0.003 p-value = 0.3486684291093256\n",
      "Разница статистически незначима\n",
      "\n",
      "Число пользователей совершивших действие OffersScreenAppear в группе А : 3062.0\n",
      "Число пользователей совершивших действие OffersScreenAppear в группе В : 1531.0\n",
      "Доля пользователей совершивших действие OffersScreenAppear в группе А : 0.61\n",
      "Доля пользователей совершивших действие OffersScreenAppear в группе В : 0.6\n",
      "Относительная разница доли пользователей = -0.015 p-value = 0.44582745409482394\n",
      "Разница статистически незначима\n",
      "\n",
      "Число пользователей совершивших действие PaymentScreenSuccessful в группе А : 2358.0\n",
      "Число пользователей совершивших действие PaymentScreenSuccessful в группе В : 1181.0\n",
      "Доля пользователей совершивших действие PaymentScreenSuccessful в группе А : 0.47\n",
      "Доля пользователей совершивших действие PaymentScreenSuccessful в группе В : 0.47\n",
      "Относительная разница доли пользователей = -0.013 p-value = 0.6107918742187335\n",
      "Разница статистически незначима\n",
      "\n"
     ]
    }
   ],
   "source": [
    "for i in log_a_1.columns:\n",
    "    if i != 'event':\n",
    "        stat_event(log_a_1_2, log_b, i)"
   ]
  },
  {
   "cell_type": "markdown",
   "id": "30b2b795",
   "metadata": {},
   "source": [
    "В результате 16 тестов не было обнаружено ни одного статистически значимого изменения изучаемых параметров при уровне значимости 0.05"
   ]
  },
  {
   "cell_type": "markdown",
   "id": "af25ec4a",
   "metadata": {},
   "source": [
    "Для определения уровня значимости применим поправку Бонферони: уровень значимости 0.1 поделим на кол-во экспериментов - 16 "
   ]
  },
  {
   "cell_type": "code",
   "execution_count": 45,
   "id": "dd622339",
   "metadata": {},
   "outputs": [
    {
     "data": {
      "text/plain": [
       "0.003125"
      ]
     },
     "execution_count": 45,
     "metadata": {},
     "output_type": "execute_result"
    }
   ],
   "source": [
    "alpha = 0.05 / 16\n",
    "alpha"
   ]
  },
  {
   "cell_type": "code",
   "execution_count": 46,
   "id": "c62d66ee",
   "metadata": {},
   "outputs": [
    {
     "name": "stdout",
     "output_type": "stream",
     "text": [
      "Число пользователей совершивших действие CartScreenAppear в группе А : 1266.0\n",
      "Число пользователей совершивших действие CartScreenAppear в группе В : 1238.0\n",
      "Доля пользователей совершивших действие CartScreenAppear в группе А : 0.51\n",
      "Доля пользователей совершивших действие CartScreenAppear в группе В : 0.49\n",
      "Относительная разница доли пользователей = -0.033 p-value = 0.22867643757335676\n",
      "Разница статистически незначима\n",
      "\n",
      "Число пользователей совершивших действие MainScreenAppear в группе А : 2450.0\n",
      "Число пользователей совершивших действие MainScreenAppear в группе В : 2476.0\n",
      "Доля пользователей совершивших действие MainScreenAppear в группе А : 0.99\n",
      "Доля пользователей совершивших действие MainScreenAppear в группе В : 0.99\n",
      "Относительная разница доли пользователей = -0.001 p-value = 0.7526703436483038\n",
      "Разница статистически незначима\n",
      "\n",
      "Число пользователей совершивших действие OffersScreenAppear в группе А : 1542.0\n",
      "Число пользователей совершивших действие OffersScreenAppear в группе В : 1520.0\n",
      "Доля пользователей совершивших действие OffersScreenAppear в группе А : 0.62\n",
      "Доля пользователей совершивших действие OffersScreenAppear в группе В : 0.61\n",
      "Относительная разница доли пользователей = -0.026 p-value = 0.24786096925282264\n",
      "Разница статистически незначима\n",
      "\n",
      "Число пользователей совершивших действие PaymentScreenSuccessful в группе А : 1200.0\n",
      "Число пользователей совершивших действие PaymentScreenSuccessful в группе В : 1158.0\n",
      "Доля пользователей совершивших действие PaymentScreenSuccessful в группе А : 0.48\n",
      "Доля пользователей совершивших действие PaymentScreenSuccessful в группе В : 0.46\n",
      "Относительная разница доли пользователей = -0.046 p-value = 0.11446627829276612\n",
      "Разница статистически незначима\n",
      "\n"
     ]
    }
   ],
   "source": [
    "for i in log_a_1.columns:\n",
    "    if i != 'event':\n",
    "        stat_event(log_a_1, log_a_2, i)"
   ]
  },
  {
   "cell_type": "code",
   "execution_count": 47,
   "id": "9999f23c",
   "metadata": {},
   "outputs": [
    {
     "name": "stdout",
     "output_type": "stream",
     "text": [
      "Число пользователей совершивших действие CartScreenAppear в группе А : 1266.0\n",
      "Число пользователей совершивших действие CartScreenAppear в группе В : 1230.0\n",
      "Доля пользователей совершивших действие CartScreenAppear в группе А : 0.51\n",
      "Доля пользователей совершивших действие CartScreenAppear в группе В : 0.49\n",
      "Относительная разница доли пользователей = -0.048 p-value = 0.08067367598823139\n",
      "Разница статистически незначима\n",
      "\n",
      "Число пользователей совершивших действие MainScreenAppear в группе А : 2450.0\n",
      "Число пользователей совершивших действие MainScreenAppear в группе В : 2493.0\n",
      "Доля пользователей совершивших действие MainScreenAppear в группе А : 0.99\n",
      "Доля пользователей совершивших действие MainScreenAppear в группе В : 0.98\n",
      "Относительная разница доли пользователей = -0.003 p-value = 0.3387114076159288\n",
      "Разница статистически незначима\n",
      "\n",
      "Число пользователей совершивших действие OffersScreenAppear в группе А : 1542.0\n",
      "Число пользователей совершивших действие OffersScreenAppear в группе В : 1531.0\n",
      "Доля пользователей совершивших действие OffersScreenAppear в группе А : 0.62\n",
      "Доля пользователей совершивших действие OffersScreenAppear в группе В : 0.6\n",
      "Относительная разница доли пользователей = -0.028 p-value = 0.21442476639710506\n",
      "Разница статистически незначима\n",
      "\n",
      "Число пользователей совершивших действие PaymentScreenSuccessful в группе А : 1200.0\n",
      "Число пользователей совершивших действие PaymentScreenSuccessful в группе В : 1181.0\n",
      "Доля пользователей совершивших действие PaymentScreenSuccessful в группе А : 0.48\n",
      "Доля пользователей совершивших действие PaymentScreenSuccessful в группе В : 0.47\n",
      "Относительная разница доли пользователей = -0.036 p-value = 0.21693033984516674\n",
      "Разница статистически незначима\n",
      "\n"
     ]
    }
   ],
   "source": [
    "for i in log_a_1.columns:\n",
    "    if i != 'event':\n",
    "        stat_event(log_a_1, log_b, i)"
   ]
  },
  {
   "cell_type": "code",
   "execution_count": 48,
   "id": "9dc75999",
   "metadata": {},
   "outputs": [
    {
     "name": "stdout",
     "output_type": "stream",
     "text": [
      "Число пользователей совершивших действие CartScreenAppear в группе А : 1238.0\n",
      "Число пользователей совершивших действие CartScreenAppear в группе В : 1230.0\n",
      "Доля пользователей совершивших действие CartScreenAppear в группе А : 0.49\n",
      "Доля пользователей совершивших действие CartScreenAppear в группе В : 0.49\n",
      "Относительная разница доли пользователей = -0.015 p-value = 0.5878284605111943\n",
      "Разница статистически незначима\n",
      "\n",
      "Число пользователей совершивших действие MainScreenAppear в группе А : 2476.0\n",
      "Число пользователей совершивших действие MainScreenAppear в группе В : 2493.0\n",
      "Доля пользователей совершивших действие MainScreenAppear в группе А : 0.99\n",
      "Доля пользователей совершивших действие MainScreenAppear в группе В : 0.98\n",
      "Относительная разница доли пользователей = -0.002 p-value = 0.5194964354051703\n",
      "Разница статистически незначима\n",
      "\n",
      "Число пользователей совершивших действие OffersScreenAppear в группе А : 1520.0\n",
      "Число пользователей совершивших действие OffersScreenAppear в группе В : 1531.0\n",
      "Доля пользователей совершивших действие OffersScreenAppear в группе А : 0.61\n",
      "Доля пользователей совершивших действие OffersScreenAppear в группе В : 0.6\n",
      "Относительная разница доли пользователей = -0.002 p-value = 0.9333751305879443\n",
      "Разница статистически незначима\n",
      "\n",
      "Число пользователей совершивших действие PaymentScreenSuccessful в группе А : 1158.0\n",
      "Число пользователей совершивших действие PaymentScreenSuccessful в группе В : 1181.0\n",
      "Доля пользователей совершивших действие PaymentScreenSuccessful в группе А : 0.46\n",
      "Доля пользователей совершивших действие PaymentScreenSuccessful в группе В : 0.47\n",
      "Относительная разница доли пользователей = 0.011 p-value = 0.7275718682261119\n",
      "Разница статистически незначима\n",
      "\n"
     ]
    }
   ],
   "source": [
    "for i in log_a_1.columns:\n",
    "    if i != 'event':\n",
    "        stat_event(log_a_2, log_b, i)"
   ]
  },
  {
   "cell_type": "code",
   "execution_count": 49,
   "id": "08bfaadc",
   "metadata": {
    "scrolled": false
   },
   "outputs": [
    {
     "name": "stdout",
     "output_type": "stream",
     "text": [
      "Число пользователей совершивших действие CartScreenAppear в группе А : 2504.0\n",
      "Число пользователей совершивших действие CartScreenAppear в группе В : 1230.0\n",
      "Доля пользователей совершивших действие CartScreenAppear в группе А : 0.5\n",
      "Доля пользователей совершивших действие CartScreenAppear в группе В : 0.49\n",
      "Относительная разница доли пользователей = -0.032 p-value = 0.18683558686831558\n",
      "Разница статистически незначима\n",
      "\n",
      "Число пользователей совершивших действие MainScreenAppear в группе А : 4926.0\n",
      "Число пользователей совершивших действие MainScreenAppear в группе В : 2493.0\n",
      "Доля пользователей совершивших действие MainScreenAppear в группе А : 0.99\n",
      "Доля пользователей совершивших действие MainScreenAppear в группе В : 0.98\n",
      "Относительная разница доли пользователей = -0.003 p-value = 0.3486684291093256\n",
      "Разница статистически незначима\n",
      "\n",
      "Число пользователей совершивших действие OffersScreenAppear в группе А : 3062.0\n",
      "Число пользователей совершивших действие OffersScreenAppear в группе В : 1531.0\n",
      "Доля пользователей совершивших действие OffersScreenAppear в группе А : 0.61\n",
      "Доля пользователей совершивших действие OffersScreenAppear в группе В : 0.6\n",
      "Относительная разница доли пользователей = -0.015 p-value = 0.44582745409482394\n",
      "Разница статистически незначима\n",
      "\n",
      "Число пользователей совершивших действие PaymentScreenSuccessful в группе А : 2358.0\n",
      "Число пользователей совершивших действие PaymentScreenSuccessful в группе В : 1181.0\n",
      "Доля пользователей совершивших действие PaymentScreenSuccessful в группе А : 0.47\n",
      "Доля пользователей совершивших действие PaymentScreenSuccessful в группе В : 0.47\n",
      "Относительная разница доли пользователей = -0.013 p-value = 0.6107918742187335\n",
      "Разница статистически незначима\n",
      "\n"
     ]
    }
   ],
   "source": [
    "for i in log_a_1.columns:\n",
    "    if i != 'event':\n",
    "        stat_event(log_a_1_2, log_b, i)"
   ]
  },
  {
   "cell_type": "markdown",
   "id": "a2fe230b",
   "metadata": {},
   "source": [
    "При применении поправки Бонферони, тестов с статистически значимым результатом так же не появилось, что закономерно."
   ]
  },
  {
   "cell_type": "markdown",
   "id": "9c38baf5",
   "metadata": {},
   "source": [
    "## Выводы"
   ]
  },
  {
   "cell_type": "markdown",
   "id": "cf418321",
   "metadata": {},
   "source": [
    "* Была проведена предобработка данных. Пропусков в датасете нет, удалено 413 дубликатов.\n",
    "* Для анализа использовалась лишь часть датасета, а именно лог за период с 1 августа по 7 августа. т.е за 1 неделю. Так как за дату раньше 1 августа очень мло данных, и они могут повлиять на результаты исследования. Установив порог даты в 01.08.2019, мы потеряли 2826 записей и 19 пользователей из датасета. В итоге осталось 240887 записей\n",
    "* Воронка событий выстраивается следующим образом: Сначала пользователей попадает на главный экран, затем заходит на страницу товара, после чего добавляет его в корзину и наконец оплачивает его. Обучение в воронку не входит и поэтому записи с этим событием будут исключены из датасета при анализе результатов теста\n",
    "* В тесте участвовали: В группе 246 - 2483 пользователя, в группе 247 - 2512, а в группе 248 - 2535\n",
    "* В тесте исследовалось влияние изменения шрифта на долю пользователей совершивших одно из действий: открытие главного экрана, открытие страницы товара, открытие страницы корзины и успешная оплата.\n",
    "* Результаты тестов на контрольных группах не показали статистически значимой разницы между группами, что говорит о соблюдении технологии деления на группы.\n",
    "* Ни при уровне значимости 0.05, ни при уровне значимости 0.003125(после применения поправки Бонферони для 16 тестов) не было обнаруженно статистически значимой разницы между долей пользователей, совершивших любое из исследуемых действий.\n",
    "* Можно сделать вывод, что изменение шрифта на новый никак не повлияло на воронку продаж, а значит никак не скажется на количестве продаж. "
   ]
  },
  {
   "cell_type": "code",
   "execution_count": null,
   "id": "cfb2b41f",
   "metadata": {},
   "outputs": [],
   "source": []
  }
 ],
 "metadata": {
  "ExecuteTimeLog": [
   {
    "duration": 1464,
    "start_time": "2023-06-22T14:18:48.135Z"
   },
   {
    "duration": 180,
    "start_time": "2023-06-22T14:18:49.602Z"
   },
   {
    "duration": 0,
    "start_time": "2023-06-22T14:18:49.787Z"
   },
   {
    "duration": 0,
    "start_time": "2023-06-22T14:18:49.788Z"
   },
   {
    "duration": 0,
    "start_time": "2023-06-22T14:18:49.789Z"
   },
   {
    "duration": 0,
    "start_time": "2023-06-22T14:18:49.790Z"
   },
   {
    "duration": 0,
    "start_time": "2023-06-22T14:18:49.791Z"
   },
   {
    "duration": 0,
    "start_time": "2023-06-22T14:18:49.792Z"
   },
   {
    "duration": 0,
    "start_time": "2023-06-22T14:18:49.794Z"
   },
   {
    "duration": 0,
    "start_time": "2023-06-22T14:18:49.795Z"
   },
   {
    "duration": 0,
    "start_time": "2023-06-22T14:18:49.797Z"
   },
   {
    "duration": 0,
    "start_time": "2023-06-22T14:18:49.798Z"
   },
   {
    "duration": 0,
    "start_time": "2023-06-22T14:18:49.799Z"
   },
   {
    "duration": 0,
    "start_time": "2023-06-22T14:18:49.800Z"
   },
   {
    "duration": 0,
    "start_time": "2023-06-22T14:18:49.802Z"
   },
   {
    "duration": 0,
    "start_time": "2023-06-22T14:18:49.803Z"
   },
   {
    "duration": 0,
    "start_time": "2023-06-22T14:18:49.804Z"
   },
   {
    "duration": 0,
    "start_time": "2023-06-22T14:18:49.805Z"
   },
   {
    "duration": 0,
    "start_time": "2023-06-22T14:18:49.806Z"
   },
   {
    "duration": 0,
    "start_time": "2023-06-22T14:18:49.808Z"
   },
   {
    "duration": 0,
    "start_time": "2023-06-22T14:18:49.809Z"
   },
   {
    "duration": 0,
    "start_time": "2023-06-22T14:18:49.811Z"
   },
   {
    "duration": 0,
    "start_time": "2023-06-22T14:18:49.812Z"
   },
   {
    "duration": 0,
    "start_time": "2023-06-22T14:18:49.814Z"
   },
   {
    "duration": 0,
    "start_time": "2023-06-22T14:18:49.815Z"
   },
   {
    "duration": 0,
    "start_time": "2023-06-22T14:18:49.816Z"
   },
   {
    "duration": 0,
    "start_time": "2023-06-22T14:18:49.817Z"
   },
   {
    "duration": 0,
    "start_time": "2023-06-22T14:18:49.818Z"
   },
   {
    "duration": 0,
    "start_time": "2023-06-22T14:18:49.819Z"
   },
   {
    "duration": 0,
    "start_time": "2023-06-22T14:18:49.821Z"
   },
   {
    "duration": 0,
    "start_time": "2023-06-22T14:18:49.822Z"
   },
   {
    "duration": 0,
    "start_time": "2023-06-22T14:18:49.823Z"
   },
   {
    "duration": 0,
    "start_time": "2023-06-22T14:18:49.824Z"
   },
   {
    "duration": 0,
    "start_time": "2023-06-22T14:18:49.825Z"
   },
   {
    "duration": 0,
    "start_time": "2023-06-22T14:18:49.826Z"
   },
   {
    "duration": 0,
    "start_time": "2023-06-22T14:18:49.827Z"
   },
   {
    "duration": 0,
    "start_time": "2023-06-22T14:18:49.828Z"
   },
   {
    "duration": 0,
    "start_time": "2023-06-22T14:18:49.829Z"
   },
   {
    "duration": 0,
    "start_time": "2023-06-22T14:18:49.880Z"
   },
   {
    "duration": 0,
    "start_time": "2023-06-22T14:18:49.881Z"
   },
   {
    "duration": 0,
    "start_time": "2023-06-22T14:18:49.882Z"
   },
   {
    "duration": 0,
    "start_time": "2023-06-22T14:18:49.883Z"
   },
   {
    "duration": 0,
    "start_time": "2023-06-22T14:18:49.886Z"
   },
   {
    "duration": 0,
    "start_time": "2023-06-22T14:18:49.887Z"
   },
   {
    "duration": 0,
    "start_time": "2023-06-22T14:18:49.888Z"
   },
   {
    "duration": 0,
    "start_time": "2023-06-22T14:18:49.889Z"
   },
   {
    "duration": 0,
    "start_time": "2023-06-22T14:18:49.890Z"
   },
   {
    "duration": 1356,
    "start_time": "2023-06-23T06:25:42.365Z"
   },
   {
    "duration": 156,
    "start_time": "2023-06-23T06:25:44.295Z"
   },
   {
    "duration": 61,
    "start_time": "2023-06-23T06:25:53.389Z"
   },
   {
    "duration": 698,
    "start_time": "2023-06-23T06:26:22.909Z"
   },
   {
    "duration": 3,
    "start_time": "2023-06-23T06:28:35.013Z"
   },
   {
    "duration": 170,
    "start_time": "2023-06-23T06:28:35.018Z"
   },
   {
    "duration": 10,
    "start_time": "2023-06-23T06:28:35.190Z"
   },
   {
    "duration": 26,
    "start_time": "2023-06-23T06:28:35.201Z"
   },
   {
    "duration": 62,
    "start_time": "2023-06-23T06:28:35.229Z"
   },
   {
    "duration": 61,
    "start_time": "2023-06-23T06:28:35.292Z"
   },
   {
    "duration": 66,
    "start_time": "2023-06-23T06:28:35.355Z"
   },
   {
    "duration": 69,
    "start_time": "2023-06-23T06:28:35.423Z"
   },
   {
    "duration": 3,
    "start_time": "2023-06-23T06:28:35.494Z"
   },
   {
    "duration": 12,
    "start_time": "2023-06-23T06:28:35.499Z"
   },
   {
    "duration": 26,
    "start_time": "2023-06-23T06:28:35.513Z"
   },
   {
    "duration": 107,
    "start_time": "2023-06-23T06:28:35.542Z"
   },
   {
    "duration": 17,
    "start_time": "2023-06-23T06:28:35.651Z"
   },
   {
    "duration": 30,
    "start_time": "2023-06-23T06:28:35.669Z"
   },
   {
    "duration": 25,
    "start_time": "2023-06-23T06:28:35.700Z"
   },
   {
    "duration": 35,
    "start_time": "2023-06-23T06:28:35.726Z"
   },
   {
    "duration": 14,
    "start_time": "2023-06-23T06:28:35.763Z"
   },
   {
    "duration": 282,
    "start_time": "2023-06-23T06:28:35.779Z"
   },
   {
    "duration": 17,
    "start_time": "2023-06-23T06:28:36.069Z"
   },
   {
    "duration": 7,
    "start_time": "2023-06-23T06:28:36.088Z"
   },
   {
    "duration": 16,
    "start_time": "2023-06-23T06:28:36.096Z"
   },
   {
    "duration": 9,
    "start_time": "2023-06-23T06:28:36.114Z"
   },
   {
    "duration": 11,
    "start_time": "2023-06-23T06:28:36.125Z"
   },
   {
    "duration": 52,
    "start_time": "2023-06-23T06:28:36.138Z"
   },
   {
    "duration": 51,
    "start_time": "2023-06-23T06:28:36.192Z"
   },
   {
    "duration": 45,
    "start_time": "2023-06-23T06:28:36.245Z"
   },
   {
    "duration": 3,
    "start_time": "2023-06-23T06:28:36.292Z"
   },
   {
    "duration": 12,
    "start_time": "2023-06-23T06:28:36.297Z"
   },
   {
    "duration": 26,
    "start_time": "2023-06-23T06:28:36.312Z"
   },
   {
    "duration": 20,
    "start_time": "2023-06-23T06:28:36.340Z"
   },
   {
    "duration": 35,
    "start_time": "2023-06-23T06:28:36.362Z"
   },
   {
    "duration": 26,
    "start_time": "2023-06-23T06:28:36.398Z"
   },
   {
    "duration": 3,
    "start_time": "2023-06-23T06:28:48.421Z"
   },
   {
    "duration": 165,
    "start_time": "2023-06-23T06:28:48.426Z"
   },
   {
    "duration": 7,
    "start_time": "2023-06-23T06:28:48.593Z"
   },
   {
    "duration": 18,
    "start_time": "2023-06-23T06:28:48.602Z"
   },
   {
    "duration": 61,
    "start_time": "2023-06-23T06:28:48.622Z"
   },
   {
    "duration": 53,
    "start_time": "2023-06-23T06:28:48.685Z"
   },
   {
    "duration": 65,
    "start_time": "2023-06-23T06:28:48.739Z"
   },
   {
    "duration": 49,
    "start_time": "2023-06-23T06:28:48.806Z"
   },
   {
    "duration": 3,
    "start_time": "2023-06-23T06:28:48.868Z"
   },
   {
    "duration": 12,
    "start_time": "2023-06-23T06:28:48.872Z"
   },
   {
    "duration": 20,
    "start_time": "2023-06-23T06:28:48.888Z"
   },
   {
    "duration": 110,
    "start_time": "2023-06-23T06:28:48.910Z"
   },
   {
    "duration": 8,
    "start_time": "2023-06-23T06:28:49.022Z"
   },
   {
    "duration": 44,
    "start_time": "2023-06-23T06:28:49.031Z"
   },
   {
    "duration": 7,
    "start_time": "2023-06-23T06:28:49.076Z"
   },
   {
    "duration": 28,
    "start_time": "2023-06-23T06:28:49.085Z"
   },
   {
    "duration": 11,
    "start_time": "2023-06-23T06:28:49.115Z"
   },
   {
    "duration": 267,
    "start_time": "2023-06-23T06:28:49.128Z"
   },
   {
    "duration": 12,
    "start_time": "2023-06-23T06:28:49.397Z"
   },
   {
    "duration": 10,
    "start_time": "2023-06-23T06:28:49.410Z"
   },
   {
    "duration": 15,
    "start_time": "2023-06-23T06:28:49.422Z"
   },
   {
    "duration": 34,
    "start_time": "2023-06-23T06:28:49.439Z"
   },
   {
    "duration": 9,
    "start_time": "2023-06-23T06:28:49.475Z"
   },
   {
    "duration": 44,
    "start_time": "2023-06-23T06:28:49.485Z"
   },
   {
    "duration": 103,
    "start_time": "2023-06-23T06:28:49.531Z"
   },
   {
    "duration": 32,
    "start_time": "2023-06-23T06:28:49.636Z"
   },
   {
    "duration": 4,
    "start_time": "2023-06-23T06:28:49.669Z"
   },
   {
    "duration": 29,
    "start_time": "2023-06-23T06:28:49.675Z"
   },
   {
    "duration": 11,
    "start_time": "2023-06-23T06:28:49.707Z"
   },
   {
    "duration": 32,
    "start_time": "2023-06-23T06:28:49.719Z"
   },
   {
    "duration": 40,
    "start_time": "2023-06-23T06:28:49.752Z"
   },
   {
    "duration": 27,
    "start_time": "2023-06-23T06:28:49.793Z"
   },
   {
    "duration": 81,
    "start_time": "2023-06-23T06:28:49.821Z"
   },
   {
    "duration": 930,
    "start_time": "2023-06-23T06:28:49.904Z"
   },
   {
    "duration": 4,
    "start_time": "2023-06-23T06:28:50.835Z"
   },
   {
    "duration": 7,
    "start_time": "2023-06-23T06:28:50.840Z"
   },
   {
    "duration": 17,
    "start_time": "2023-06-23T06:28:50.848Z"
   },
   {
    "duration": 9,
    "start_time": "2023-06-23T06:28:50.866Z"
   },
   {
    "duration": 48,
    "start_time": "2023-06-23T06:28:50.876Z"
   },
   {
    "duration": 43,
    "start_time": "2023-06-23T06:28:50.926Z"
   },
   {
    "duration": 35,
    "start_time": "2023-06-23T06:28:50.970Z"
   },
   {
    "duration": 64,
    "start_time": "2023-06-23T06:28:51.007Z"
   },
   {
    "duration": 4,
    "start_time": "2023-06-23T06:28:51.073Z"
   },
   {
    "duration": 47,
    "start_time": "2023-06-23T06:28:51.078Z"
   },
   {
    "duration": 63,
    "start_time": "2023-06-23T06:28:51.127Z"
   },
   {
    "duration": 39,
    "start_time": "2023-06-23T06:28:51.192Z"
   },
   {
    "duration": 75,
    "start_time": "2023-06-23T06:28:51.233Z"
   },
   {
    "duration": 13,
    "start_time": "2023-06-23T06:29:36.221Z"
   },
   {
    "duration": 69,
    "start_time": "2023-06-23T06:30:49.420Z"
   },
   {
    "duration": 1123,
    "start_time": "2023-06-23T06:30:50.174Z"
   },
   {
    "duration": 5,
    "start_time": "2023-06-23T06:30:51.299Z"
   },
   {
    "duration": 4,
    "start_time": "2023-06-23T06:30:52.257Z"
   },
   {
    "duration": 14,
    "start_time": "2023-06-23T06:30:57.653Z"
   },
   {
    "duration": 98,
    "start_time": "2023-06-23T06:31:11.804Z"
   },
   {
    "duration": 6,
    "start_time": "2023-06-23T06:31:12.475Z"
   },
   {
    "duration": 6,
    "start_time": "2023-06-23T06:31:14.892Z"
   },
   {
    "duration": 6,
    "start_time": "2023-06-23T06:31:15.976Z"
   },
   {
    "duration": 16,
    "start_time": "2023-06-23T06:31:17.696Z"
   },
   {
    "duration": 71,
    "start_time": "2023-06-23T06:32:12.509Z"
   },
   {
    "duration": 1136,
    "start_time": "2023-06-23T06:32:13.145Z"
   },
   {
    "duration": 3,
    "start_time": "2023-06-23T06:32:14.283Z"
   },
   {
    "duration": 4,
    "start_time": "2023-06-23T06:32:14.513Z"
   },
   {
    "duration": 16,
    "start_time": "2023-06-23T06:32:15.129Z"
   },
   {
    "duration": 3,
    "start_time": "2023-06-23T06:41:03.902Z"
   },
   {
    "duration": 136,
    "start_time": "2023-06-23T06:41:07.801Z"
   },
   {
    "duration": 114,
    "start_time": "2023-06-23T06:41:26.977Z"
   },
   {
    "duration": 7,
    "start_time": "2023-06-23T06:42:14.500Z"
   },
   {
    "duration": 16,
    "start_time": "2023-06-23T06:42:15.720Z"
   },
   {
    "duration": 3,
    "start_time": "2023-06-23T06:42:30.616Z"
   },
   {
    "duration": 6,
    "start_time": "2023-06-23T06:42:43.705Z"
   },
   {
    "duration": 16,
    "start_time": "2023-06-23T06:42:44.768Z"
   },
   {
    "duration": 21,
    "start_time": "2023-06-23T06:43:01.504Z"
   },
   {
    "duration": 18,
    "start_time": "2023-06-23T06:43:06.752Z"
   },
   {
    "duration": 22,
    "start_time": "2023-06-23T06:43:22.240Z"
   },
   {
    "duration": 4,
    "start_time": "2023-06-23T06:43:30.201Z"
   },
   {
    "duration": 17,
    "start_time": "2023-06-23T06:43:30.856Z"
   },
   {
    "duration": 19,
    "start_time": "2023-06-23T06:43:31.472Z"
   },
   {
    "duration": 17,
    "start_time": "2023-06-23T06:43:32.010Z"
   },
   {
    "duration": 17,
    "start_time": "2023-06-23T06:43:32.876Z"
   },
   {
    "duration": 1110,
    "start_time": "2023-06-23T06:44:15.403Z"
   },
   {
    "duration": 153,
    "start_time": "2023-06-23T06:44:16.515Z"
   },
   {
    "duration": 12,
    "start_time": "2023-06-23T06:44:16.669Z"
   },
   {
    "duration": 16,
    "start_time": "2023-06-23T06:44:16.682Z"
   },
   {
    "duration": 78,
    "start_time": "2023-06-23T06:44:16.700Z"
   },
   {
    "duration": 67,
    "start_time": "2023-06-23T06:44:16.780Z"
   },
   {
    "duration": 82,
    "start_time": "2023-06-23T06:44:16.849Z"
   },
   {
    "duration": 67,
    "start_time": "2023-06-23T06:44:16.933Z"
   },
   {
    "duration": 3,
    "start_time": "2023-06-23T06:44:17.002Z"
   },
   {
    "duration": 10,
    "start_time": "2023-06-23T06:44:17.007Z"
   },
   {
    "duration": 19,
    "start_time": "2023-06-23T06:44:17.019Z"
   },
   {
    "duration": 128,
    "start_time": "2023-06-23T06:44:17.040Z"
   },
   {
    "duration": 9,
    "start_time": "2023-06-23T06:44:17.169Z"
   },
   {
    "duration": 26,
    "start_time": "2023-06-23T06:44:17.182Z"
   },
   {
    "duration": 7,
    "start_time": "2023-06-23T06:44:17.210Z"
   },
   {
    "duration": 20,
    "start_time": "2023-06-23T06:44:17.219Z"
   },
   {
    "duration": 34,
    "start_time": "2023-06-23T06:44:17.240Z"
   },
   {
    "duration": 276,
    "start_time": "2023-06-23T06:44:17.276Z"
   },
   {
    "duration": 26,
    "start_time": "2023-06-23T06:44:17.554Z"
   },
   {
    "duration": 6,
    "start_time": "2023-06-23T06:44:17.582Z"
   },
   {
    "duration": 15,
    "start_time": "2023-06-23T06:44:17.589Z"
   },
   {
    "duration": 10,
    "start_time": "2023-06-23T06:44:17.605Z"
   },
   {
    "duration": 14,
    "start_time": "2023-06-23T06:44:17.616Z"
   },
   {
    "duration": 53,
    "start_time": "2023-06-23T06:44:17.632Z"
   },
   {
    "duration": 53,
    "start_time": "2023-06-23T06:44:17.687Z"
   },
   {
    "duration": 42,
    "start_time": "2023-06-23T06:44:17.742Z"
   },
   {
    "duration": 3,
    "start_time": "2023-06-23T06:44:17.786Z"
   },
   {
    "duration": 11,
    "start_time": "2023-06-23T06:44:17.792Z"
   },
   {
    "duration": 10,
    "start_time": "2023-06-23T06:44:17.804Z"
   },
   {
    "duration": 21,
    "start_time": "2023-06-23T06:44:17.815Z"
   },
   {
    "duration": 58,
    "start_time": "2023-06-23T06:44:17.838Z"
   },
   {
    "duration": 27,
    "start_time": "2023-06-23T06:44:17.898Z"
   },
   {
    "duration": 14,
    "start_time": "2023-06-23T06:44:17.927Z"
   },
   {
    "duration": 96,
    "start_time": "2023-06-23T06:44:17.943Z"
   },
   {
    "duration": 927,
    "start_time": "2023-06-23T06:44:18.041Z"
   },
   {
    "duration": 4,
    "start_time": "2023-06-23T06:44:18.970Z"
   },
   {
    "duration": 10,
    "start_time": "2023-06-23T06:44:18.975Z"
   },
   {
    "duration": 12,
    "start_time": "2023-06-23T06:44:18.987Z"
   },
   {
    "duration": 4,
    "start_time": "2023-06-23T06:44:19.001Z"
   },
   {
    "duration": 6,
    "start_time": "2023-06-23T06:44:19.006Z"
   },
   {
    "duration": 19,
    "start_time": "2023-06-23T06:44:19.015Z"
   },
   {
    "duration": 43,
    "start_time": "2023-06-23T06:44:19.036Z"
   },
   {
    "duration": 17,
    "start_time": "2023-06-23T06:44:19.080Z"
   },
   {
    "duration": 16,
    "start_time": "2023-06-23T06:44:19.098Z"
   },
   {
    "duration": 3,
    "start_time": "2023-06-23T06:44:19.116Z"
   },
   {
    "duration": 50,
    "start_time": "2023-06-23T06:44:19.121Z"
   },
   {
    "duration": 15,
    "start_time": "2023-06-23T06:44:19.173Z"
   },
   {
    "duration": 23,
    "start_time": "2023-06-23T06:44:19.190Z"
   },
   {
    "duration": 17,
    "start_time": "2023-06-23T06:44:19.215Z"
   },
   {
    "duration": 1106,
    "start_time": "2023-06-23T17:37:21.717Z"
   },
   {
    "duration": 512,
    "start_time": "2023-06-23T17:37:22.825Z"
   },
   {
    "duration": 10,
    "start_time": "2023-06-23T17:37:23.339Z"
   },
   {
    "duration": 20,
    "start_time": "2023-06-23T17:37:23.350Z"
   },
   {
    "duration": 73,
    "start_time": "2023-06-23T17:37:23.372Z"
   },
   {
    "duration": 72,
    "start_time": "2023-06-23T17:37:23.447Z"
   },
   {
    "duration": 65,
    "start_time": "2023-06-23T17:37:23.520Z"
   },
   {
    "duration": 71,
    "start_time": "2023-06-23T17:37:23.587Z"
   },
   {
    "duration": 3,
    "start_time": "2023-06-23T17:37:23.659Z"
   },
   {
    "duration": 14,
    "start_time": "2023-06-23T17:37:23.664Z"
   },
   {
    "duration": 36,
    "start_time": "2023-06-23T17:37:23.679Z"
   },
   {
    "duration": 107,
    "start_time": "2023-06-23T17:37:23.717Z"
   },
   {
    "duration": 16,
    "start_time": "2023-06-23T17:37:23.825Z"
   },
   {
    "duration": 39,
    "start_time": "2023-06-23T17:37:23.844Z"
   },
   {
    "duration": 8,
    "start_time": "2023-06-23T17:37:23.884Z"
   },
   {
    "duration": 25,
    "start_time": "2023-06-23T17:37:23.894Z"
   },
   {
    "duration": 20,
    "start_time": "2023-06-23T17:37:23.920Z"
   },
   {
    "duration": 286,
    "start_time": "2023-06-23T17:37:23.942Z"
   },
   {
    "duration": 17,
    "start_time": "2023-06-23T17:37:24.230Z"
   },
   {
    "duration": 6,
    "start_time": "2023-06-23T17:37:24.249Z"
   },
   {
    "duration": 18,
    "start_time": "2023-06-23T17:37:24.256Z"
   },
   {
    "duration": 35,
    "start_time": "2023-06-23T17:37:24.276Z"
   },
   {
    "duration": 9,
    "start_time": "2023-06-23T17:37:24.312Z"
   },
   {
    "duration": 29,
    "start_time": "2023-06-23T17:37:24.323Z"
   },
   {
    "duration": 68,
    "start_time": "2023-06-23T17:37:24.354Z"
   },
   {
    "duration": 21,
    "start_time": "2023-06-23T17:37:24.423Z"
   },
   {
    "duration": 3,
    "start_time": "2023-06-23T17:37:24.445Z"
   },
   {
    "duration": 18,
    "start_time": "2023-06-23T17:37:24.450Z"
   },
   {
    "duration": 10,
    "start_time": "2023-06-23T17:37:24.469Z"
   },
   {
    "duration": 42,
    "start_time": "2023-06-23T17:37:24.480Z"
   },
   {
    "duration": 30,
    "start_time": "2023-06-23T17:37:24.523Z"
   },
   {
    "duration": 24,
    "start_time": "2023-06-23T17:37:24.555Z"
   },
   {
    "duration": 29,
    "start_time": "2023-06-23T17:37:24.580Z"
   },
   {
    "duration": 73,
    "start_time": "2023-06-23T17:37:24.610Z"
   },
   {
    "duration": 1076,
    "start_time": "2023-06-23T17:37:24.684Z"
   },
   {
    "duration": 4,
    "start_time": "2023-06-23T17:37:25.761Z"
   },
   {
    "duration": 5,
    "start_time": "2023-06-23T17:37:25.767Z"
   },
   {
    "duration": 31,
    "start_time": "2023-06-23T17:37:25.774Z"
   },
   {
    "duration": 4,
    "start_time": "2023-06-23T17:37:25.806Z"
   },
   {
    "duration": 9,
    "start_time": "2023-06-23T17:37:25.811Z"
   },
   {
    "duration": 17,
    "start_time": "2023-06-23T17:37:25.823Z"
   },
   {
    "duration": 15,
    "start_time": "2023-06-23T17:37:25.841Z"
   },
   {
    "duration": 14,
    "start_time": "2023-06-23T17:37:25.857Z"
   },
   {
    "duration": 46,
    "start_time": "2023-06-23T17:37:25.872Z"
   },
   {
    "duration": 5,
    "start_time": "2023-06-23T17:37:25.920Z"
   },
   {
    "duration": 27,
    "start_time": "2023-06-23T17:37:25.926Z"
   },
   {
    "duration": 17,
    "start_time": "2023-06-23T17:37:25.954Z"
   },
   {
    "duration": 39,
    "start_time": "2023-06-23T17:37:25.972Z"
   },
   {
    "duration": 45,
    "start_time": "2023-06-23T17:37:26.012Z"
   },
   {
    "duration": 13,
    "start_time": "2023-06-23T21:03:33.622Z"
   },
   {
    "duration": 595,
    "start_time": "2023-06-23T21:03:41.947Z"
   }
  ],
  "kernelspec": {
   "display_name": "Python 3 (ipykernel)",
   "language": "python",
   "name": "python3"
  },
  "language_info": {
   "codemirror_mode": {
    "name": "ipython",
    "version": 3
   },
   "file_extension": ".py",
   "mimetype": "text/x-python",
   "name": "python",
   "nbconvert_exporter": "python",
   "pygments_lexer": "ipython3",
   "version": "3.10.9"
  },
  "toc": {
   "base_numbering": 1,
   "nav_menu": {},
   "number_sections": false,
   "sideBar": true,
   "skip_h1_title": false,
   "title_cell": "Table of Contents",
   "title_sidebar": "Contents",
   "toc_cell": true,
   "toc_position": {
    "height": "calc(100% - 180px)",
    "left": "10px",
    "top": "150px",
    "width": "238.423px"
   },
   "toc_section_display": true,
   "toc_window_display": true
  }
 },
 "nbformat": 4,
 "nbformat_minor": 5
}
